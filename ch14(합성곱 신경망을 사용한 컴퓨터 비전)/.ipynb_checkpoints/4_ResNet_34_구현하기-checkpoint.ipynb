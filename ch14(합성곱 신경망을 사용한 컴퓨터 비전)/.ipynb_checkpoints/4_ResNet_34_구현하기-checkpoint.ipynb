{
 "cells": [
  {
   "cell_type": "code",
   "execution_count": 6,
   "metadata": {
    "id": "CKUYHz7BABca"
   },
   "outputs": [],
   "source": [
    "# 파이썬 ≥3.5 필수\n",
    "import sys\n",
    "assert sys.version_info >= (3, 5)\n",
    "\n",
    "# 사이킷런 ≥0.20 필수\n",
    "import sklearn\n",
    "assert sklearn.__version__ >= \"0.20\"\n",
    "\n",
    "# 코랩에서 실행되는 노트북인가요?\n",
    "IS_COLAB = \"google.colab\" in sys.modules\n",
    "\n",
    "# 텐서플로 ≥2.0 필수\n",
    "import tensorflow as tf\n",
    "from tensorflow import keras\n",
    "assert tf.__version__ >= \"2.0\"\n",
    "\n",
    "if not tf.config.list_physical_devices('GPU'):\n",
    "    print(\"감지된 GPU가 없습니다. GPU가 없으면 CNN은 매우 느릴 수 있습니다.\")\n",
    "    if IS_COLAB:\n",
    "        print(\"런타임 > 런타임 유형 변경 메뉴를 선택하고 하드웨어 가속기로 GPU를 고르세요.\")\n",
    "\n",
    "# 공통 모듈 임포트\n",
    "import numpy as np\n",
    "import os\n",
    "\n",
    "# 노트북 실행 결과를 동일하게 유지하기 위해\n",
    "np.random.seed(42)\n",
    "tf.random.set_seed(42)\n",
    "\n",
    "# 깔끔한 그래프 출력을 위해\n",
    "%matplotlib inline\n",
    "import matplotlib as mpl\n",
    "import matplotlib.pyplot as plt\n",
    "mpl.rc('axes', labelsize=14)\n",
    "mpl.rc('xtick', labelsize=12)\n",
    "mpl.rc('ytick', labelsize=12)\n",
    "\n",
    "# 그림을 저장할 위치\n",
    "PROJECT_ROOT_DIR = \".\"\n",
    "CHAPTER_ID = \"cnn\"\n",
    "IMAGES_PATH = os.path.join(PROJECT_ROOT_DIR, \"images\", CHAPTER_ID)\n",
    "os.makedirs(IMAGES_PATH, exist_ok=True)\n",
    "\n",
    "def save_fig(fig_id, tight_layout=True, fig_extension=\"png\", resolution=300):\n",
    "    path = os.path.join(IMAGES_PATH, fig_id + \".\" + fig_extension)\n",
    "    print(\"그림 저장\", fig_id)\n",
    "    if tight_layout:\n",
    "        plt.tight_layout()\n",
    "    plt.savefig(path, format=fig_extension, dpi=resolution)\n",
    "\n",
    "from functools import partial"
   ]
  },
  {
   "cell_type": "code",
   "execution_count": 5,
   "metadata": {
    "colab": {
     "base_uri": "https://localhost:8080/"
    },
    "id": "X1IIDlbJAwhi",
    "outputId": "216a586c-11e9-493a-92d3-cf3685becbbc"
   },
   "outputs": [
    {
     "name": "stdout",
     "output_type": "stream",
     "text": [
      "Downloading data from https://storage.googleapis.com/tensorflow/tf-keras-datasets/train-labels-idx1-ubyte.gz\n",
      "32768/29515 [=================================] - 0s 0us/step\n",
      "40960/29515 [=========================================] - 0s 0us/step\n",
      "Downloading data from https://storage.googleapis.com/tensorflow/tf-keras-datasets/train-images-idx3-ubyte.gz\n",
      "26427392/26421880 [==============================] - 0s 0us/step\n",
      "26435584/26421880 [==============================] - 0s 0us/step\n",
      "Downloading data from https://storage.googleapis.com/tensorflow/tf-keras-datasets/t10k-labels-idx1-ubyte.gz\n",
      "16384/5148 [===============================================================================================] - 0s 0us/step\n",
      "Downloading data from https://storage.googleapis.com/tensorflow/tf-keras-datasets/t10k-images-idx3-ubyte.gz\n",
      "4423680/4422102 [==============================] - 0s 0us/step\n",
      "4431872/4422102 [==============================] - 0s 0us/step\n"
     ]
    }
   ],
   "source": [
    "(X_train_full, y_train_full), (X_test, y_test) = keras.datasets.fashion_mnist.load_data()\n",
    "X_train, X_valid = X_train_full[:-5000], X_train_full[-5000:]\n",
    "y_train, y_valid = y_train_full[:-5000], y_train_full[-5000:]\n",
    "\n",
    "X_mean = X_train.mean(axis=0, keepdims=True)\n",
    "X_std = X_train.std(axis=0, keepdims=True) + 1e-7\n",
    "X_train = (X_train - X_mean) / X_std\n",
    "X_valid = (X_valid - X_mean) / X_std\n",
    "X_test = (X_test - X_mean) / X_std\n",
    "\n",
    "X_train = X_train[..., np.newaxis]\n",
    "X_valid = X_valid[..., np.newaxis]\n",
    "X_test = X_test[..., np.newaxis]"
   ]
  },
  {
   "cell_type": "markdown",
   "metadata": {
    "id": "55G-hxpbAS0r"
   },
   "source": [
    "## 잔차 유닛 구현"
   ]
  },
  {
   "cell_type": "code",
   "execution_count": 7,
   "metadata": {
    "id": "zuUxupRyAF55"
   },
   "outputs": [],
   "source": [
    "DefaultConv2D = partial(keras.layers.Conv2D, kernel_size=3, strides=1,\n",
    "                        padding=\"SAME\", use_bias=False)\n",
    "\n",
    "class ResidualUnit(keras.layers.Layer):\n",
    "    def __init__(self, filters, strides=1, activation=\"relu\", **kwargs):\n",
    "        super().__init__(**kwargs)\n",
    "        self.activation = keras.activations.get(activation)\n",
    "        self.main_layers = [\n",
    "            DefaultConv2D(filters, strides=strides),\n",
    "            keras.layers.BatchNormalization(),\n",
    "            self.activation,\n",
    "            DefaultConv2D(filters),\n",
    "            keras.layers.BatchNormalization()]\n",
    "        self.skip_layers = []\n",
    "        if strides > 1:\n",
    "            self.skip_layers = [\n",
    "                DefaultConv2D(filters, kernel_size=1, strides=strides),\n",
    "                keras.layers.BatchNormalization()]\n",
    "\n",
    "    def call(self, inputs):\n",
    "        Z = inputs\n",
    "        for layer in self.main_layers:\n",
    "            Z = layer(Z)\n",
    "        skip_Z = inputs\n",
    "        for layer in self.skip_layers:\n",
    "            skip_Z = layer(skip_Z)\n",
    "        return self.activation(Z + skip_Z)"
   ]
  },
  {
   "cell_type": "code",
   "execution_count": 14,
   "metadata": {
    "id": "vWwfdDk9AV1n"
   },
   "outputs": [],
   "source": [
    "model = keras.models.Sequential()\n",
    "model.add(DefaultConv2D(64, kernel_size=7, strides=2,\n",
    "                        input_shape=[28, 28, 1]))\n",
    "model.add(keras.layers.BatchNormalization())\n",
    "model.add(keras.layers.Activation(\"relu\"))\n",
    "model.add(keras.layers.MaxPool2D(pool_size=3, strides=2, padding=\"SAME\"))\n",
    "prev_filters = 64\n",
    "for filters in [64] * 3 + [128] * 4 + [256] * 6 + [512] * 3:\n",
    "    strides = 1 if filters == prev_filters else 2\n",
    "    model.add(ResidualUnit(filters, strides=strides))\n",
    "    prev_filters = filters\n",
    "model.add(keras.layers.GlobalAvgPool2D())\n",
    "model.add(keras.layers.Flatten())\n",
    "model.add(keras.layers.Dense(10, activation=\"softmax\"))"
   ]
  },
  {
   "cell_type": "code",
   "execution_count": 15,
   "metadata": {
    "colab": {
     "base_uri": "https://localhost:8080/"
    },
    "id": "SBmrpkv-AvAW",
    "outputId": "ef7adea0-7c77-4d00-8da4-be52fd8891d0"
   },
   "outputs": [
    {
     "name": "stdout",
     "output_type": "stream",
     "text": [
      "Model: \"sequential_3\"\n",
      "_________________________________________________________________\n",
      " Layer (type)                Output Shape              Param #   \n",
      "=================================================================\n",
      " conv2d_72 (Conv2D)          (None, 14, 14, 64)        3136      \n",
      "                                                                 \n",
      " batch_normalization_72 (Bat  (None, 14, 14, 64)       256       \n",
      " chNormalization)                                                \n",
      "                                                                 \n",
      " activation_2 (Activation)   (None, 14, 14, 64)        0         \n",
      "                                                                 \n",
      " max_pooling2d_2 (MaxPooling  (None, 7, 7, 64)         0         \n",
      " 2D)                                                             \n",
      "                                                                 \n",
      " residual_unit_32 (ResidualU  (None, 7, 7, 64)         74240     \n",
      " nit)                                                            \n",
      "                                                                 \n",
      " residual_unit_33 (ResidualU  (None, 7, 7, 64)         74240     \n",
      " nit)                                                            \n",
      "                                                                 \n",
      " residual_unit_34 (ResidualU  (None, 7, 7, 64)         74240     \n",
      " nit)                                                            \n",
      "                                                                 \n",
      " residual_unit_35 (ResidualU  (None, 4, 4, 128)        230912    \n",
      " nit)                                                            \n",
      "                                                                 \n",
      " residual_unit_36 (ResidualU  (None, 4, 4, 128)        295936    \n",
      " nit)                                                            \n",
      "                                                                 \n",
      " residual_unit_37 (ResidualU  (None, 4, 4, 128)        295936    \n",
      " nit)                                                            \n",
      "                                                                 \n",
      " residual_unit_38 (ResidualU  (None, 4, 4, 128)        295936    \n",
      " nit)                                                            \n",
      "                                                                 \n",
      " residual_unit_39 (ResidualU  (None, 2, 2, 256)        920576    \n",
      " nit)                                                            \n",
      "                                                                 \n",
      " residual_unit_40 (ResidualU  (None, 2, 2, 256)        1181696   \n",
      " nit)                                                            \n",
      "                                                                 \n",
      " residual_unit_41 (ResidualU  (None, 2, 2, 256)        1181696   \n",
      " nit)                                                            \n",
      "                                                                 \n",
      " residual_unit_42 (ResidualU  (None, 2, 2, 256)        1181696   \n",
      " nit)                                                            \n",
      "                                                                 \n",
      " residual_unit_43 (ResidualU  (None, 2, 2, 256)        1181696   \n",
      " nit)                                                            \n",
      "                                                                 \n",
      " residual_unit_44 (ResidualU  (None, 2, 2, 256)        1181696   \n",
      " nit)                                                            \n",
      "                                                                 \n",
      " residual_unit_45 (ResidualU  (None, 1, 1, 512)        3676160   \n",
      " nit)                                                            \n",
      "                                                                 \n",
      " residual_unit_46 (ResidualU  (None, 1, 1, 512)        4722688   \n",
      " nit)                                                            \n",
      "                                                                 \n",
      " residual_unit_47 (ResidualU  (None, 1, 1, 512)        4722688   \n",
      " nit)                                                            \n",
      "                                                                 \n",
      " global_average_pooling2d_2   (None, 512)              0         \n",
      " (GlobalAveragePooling2D)                                        \n",
      "                                                                 \n",
      " flatten_2 (Flatten)         (None, 512)               0         \n",
      "                                                                 \n",
      " dense_2 (Dense)             (None, 10)                5130      \n",
      "                                                                 \n",
      "=================================================================\n",
      "Total params: 21,300,554\n",
      "Trainable params: 21,283,530\n",
      "Non-trainable params: 17,024\n",
      "_________________________________________________________________\n"
     ]
    }
   ],
   "source": [
    "model.summary()"
   ]
  },
  {
   "cell_type": "code",
   "execution_count": 16,
   "metadata": {
    "colab": {
     "base_uri": "https://localhost:8080/"
    },
    "id": "onAxvdw2Av2u",
    "outputId": "2462e92a-e960-4cd9-f34c-d2f862f9fa1a"
   },
   "outputs": [
    {
     "name": "stdout",
     "output_type": "stream",
     "text": [
      "Epoch 1/10\n",
      "1719/1719 [==============================] - 263s 141ms/step - loss: 0.5155 - accuracy: 0.8235 - val_loss: 0.3778 - val_accuracy: 0.8676\n",
      "Epoch 2/10\n",
      "1719/1719 [==============================] - 240s 140ms/step - loss: 0.3588 - accuracy: 0.8753 - val_loss: 0.3679 - val_accuracy: 0.8696\n",
      "Epoch 3/10\n",
      "1719/1719 [==============================] - 240s 140ms/step - loss: 0.3313 - accuracy: 0.8817 - val_loss: 0.2993 - val_accuracy: 0.8952\n",
      "Epoch 4/10\n",
      "1719/1719 [==============================] - 240s 140ms/step - loss: 0.2819 - accuracy: 0.8985 - val_loss: 0.2857 - val_accuracy: 0.8912\n",
      "Epoch 5/10\n",
      "1719/1719 [==============================] - 240s 140ms/step - loss: 0.2873 - accuracy: 0.8998 - val_loss: 0.3327 - val_accuracy: 0.8774\n",
      "Epoch 6/10\n",
      "1719/1719 [==============================] - 243s 141ms/step - loss: 0.2439 - accuracy: 0.9120 - val_loss: 0.2624 - val_accuracy: 0.9012\n",
      "Epoch 7/10\n",
      "1719/1719 [==============================] - 241s 140ms/step - loss: 0.2205 - accuracy: 0.9203 - val_loss: 0.2660 - val_accuracy: 0.9062\n",
      "Epoch 8/10\n",
      "1719/1719 [==============================] - 243s 142ms/step - loss: 0.2130 - accuracy: 0.9230 - val_loss: 0.2670 - val_accuracy: 0.9074\n",
      "Epoch 9/10\n",
      "1719/1719 [==============================] - 242s 140ms/step - loss: 0.1864 - accuracy: 0.9319 - val_loss: 0.4097 - val_accuracy: 0.8762\n",
      "Epoch 10/10\n",
      "1719/1719 [==============================] - 242s 141ms/step - loss: 0.1731 - accuracy: 0.9372 - val_loss: 0.2389 - val_accuracy: 0.9120\n",
      "313/313 [==============================] - 8s 26ms/step - loss: 0.2469 - accuracy: 0.9138\n"
     ]
    }
   ],
   "source": [
    "model.compile(loss=\"sparse_categorical_crossentropy\", optimizer=\"nadam\", metrics=[\"accuracy\"])\n",
    "history = model.fit(X_train, y_train, epochs=10, validation_data=(X_valid, y_valid))\n",
    "score = model.evaluate(X_test, y_test)\n",
    "X_new = X_test[:10]\n",
    "y_pred = model.predict(X_new)"
   ]
  },
  {
   "cell_type": "code",
   "execution_count": null,
   "metadata": {
    "id": "egT7cyGGA_qE"
   },
   "outputs": [],
   "source": []
  }
 ],
 "metadata": {
  "accelerator": "GPU",
  "colab": {
   "name": "4. ResNet-34 구현하기.ipynb",
   "provenance": []
  },
  "kernelspec": {
   "display_name": "Python 3 (ipykernel)",
   "language": "python",
   "name": "python3"
  },
  "language_info": {
   "codemirror_mode": {
    "name": "ipython",
    "version": 3
   },
   "file_extension": ".py",
   "mimetype": "text/x-python",
   "name": "python",
   "nbconvert_exporter": "python",
   "pygments_lexer": "ipython3",
   "version": "3.9.7"
  }
 },
 "nbformat": 4,
 "nbformat_minor": 1
}
