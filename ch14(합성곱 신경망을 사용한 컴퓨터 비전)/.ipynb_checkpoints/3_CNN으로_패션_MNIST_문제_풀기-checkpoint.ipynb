{
 "cells": [
  {
   "cell_type": "code",
   "execution_count": 1,
   "metadata": {
    "id": "F021d13h2JBK"
   },
   "outputs": [],
   "source": [
    "# 파이썬 ≥3.5 필수\n",
    "import sys\n",
    "assert sys.version_info >= (3, 5)\n",
    "\n",
    "# 사이킷런 ≥0.20 필수\n",
    "import sklearn\n",
    "assert sklearn.__version__ >= \"0.20\"\n",
    "\n",
    "# 코랩에서 실행되는 노트북인가요?\n",
    "IS_COLAB = \"google.colab\" in sys.modules\n",
    "\n",
    "# 텐서플로 ≥2.0 필수\n",
    "import tensorflow as tf\n",
    "from tensorflow import keras\n",
    "assert tf.__version__ >= \"2.0\"\n",
    "\n",
    "if not tf.config.list_physical_devices('GPU'):\n",
    "    print(\"감지된 GPU가 없습니다. GPU가 없으면 CNN은 매우 느릴 수 있습니다.\")\n",
    "    if IS_COLAB:\n",
    "        print(\"런타임 > 런타임 유형 변경 메뉴를 선택하고 하드웨어 가속기로 GPU를 고르세요.\")\n",
    "\n",
    "# 공통 모듈 임포트\n",
    "import numpy as np\n",
    "import os\n",
    "\n",
    "# 노트북 실행 결과를 동일하게 유지하기 위해\n",
    "np.random.seed(42)\n",
    "tf.random.set_seed(42)\n",
    "\n",
    "# 깔끔한 그래프 출력을 위해\n",
    "%matplotlib inline\n",
    "import matplotlib as mpl\n",
    "import matplotlib.pyplot as plt\n",
    "mpl.rc('axes', labelsize=14)\n",
    "mpl.rc('xtick', labelsize=12)\n",
    "mpl.rc('ytick', labelsize=12)\n",
    "\n",
    "# 그림을 저장할 위치\n",
    "PROJECT_ROOT_DIR = \".\"\n",
    "CHAPTER_ID = \"cnn\"\n",
    "IMAGES_PATH = os.path.join(PROJECT_ROOT_DIR, \"images\", CHAPTER_ID)\n",
    "os.makedirs(IMAGES_PATH, exist_ok=True)\n",
    "\n",
    "def save_fig(fig_id, tight_layout=True, fig_extension=\"png\", resolution=300):\n",
    "    path = os.path.join(IMAGES_PATH, fig_id + \".\" + fig_extension)\n",
    "    print(\"그림 저장\", fig_id)\n",
    "    if tight_layout:\n",
    "        plt.tight_layout()\n",
    "    plt.savefig(path, format=fig_extension, dpi=resolution)"
   ]
  },
  {
   "cell_type": "markdown",
   "metadata": {
    "id": "Q-oVCzI33BnU"
   },
   "source": [
    "### 합성곱 층에서 너무 큰 커널을 사용하는 것은 좋지 않다.\n",
    "### 같은 스트라이드, 패딩의 조건에서는 5x5 커널 하나와 3x3 커널 둘의 성능이 비슷하지만, 3x3이 계산 비용이 더 적다.\n",
    "\n",
    "### 단, 첫 번째 합성곱 층에 한해 5x5와 같은 큰 크기의 커널과 2 이상의 스트라이드를 사용해 너무 많은 정보를 잃지 않고 공간 방향 차원을 줄이도록 한다."
   ]
  },
  {
   "cell_type": "code",
   "execution_count": 2,
   "metadata": {
    "colab": {
     "base_uri": "https://localhost:8080/"
    },
    "id": "lgVH9NuH3As4",
    "outputId": "38d8f2e2-5eb0-4600-c4e3-950914ac59a3"
   },
   "outputs": [
    {
     "name": "stdout",
     "output_type": "stream",
     "text": [
      "Downloading data from https://storage.googleapis.com/tensorflow/tf-keras-datasets/train-labels-idx1-ubyte.gz\n",
      "32768/29515 [=================================] - 0s 0us/step\n",
      "40960/29515 [=========================================] - 0s 0us/step\n",
      "Downloading data from https://storage.googleapis.com/tensorflow/tf-keras-datasets/train-images-idx3-ubyte.gz\n",
      "26427392/26421880 [==============================] - 0s 0us/step\n",
      "26435584/26421880 [==============================] - 0s 0us/step\n",
      "Downloading data from https://storage.googleapis.com/tensorflow/tf-keras-datasets/t10k-labels-idx1-ubyte.gz\n",
      "16384/5148 [===============================================================================================] - 0s 0us/step\n",
      "Downloading data from https://storage.googleapis.com/tensorflow/tf-keras-datasets/t10k-images-idx3-ubyte.gz\n",
      "4423680/4422102 [==============================] - 0s 0us/step\n",
      "4431872/4422102 [==============================] - 0s 0us/step\n"
     ]
    }
   ],
   "source": [
    "(X_train_full, y_train_full), (X_test, y_test) = keras.datasets.fashion_mnist.load_data()\n",
    "X_train, X_valid = X_train_full[:-5000], X_train_full[-5000:]\n",
    "y_train, y_valid = y_train_full[:-5000], y_train_full[-5000:]"
   ]
  },
  {
   "cell_type": "code",
   "execution_count": 3,
   "metadata": {
    "id": "SUJtowVl4-ts"
   },
   "outputs": [],
   "source": [
    "X_mean = X_train.mean(axis=0, keepdims=True)\n",
    "X_std = X_train.std(axis=0, keepdims=True) + 1e-7\n",
    "X_train = (X_train - X_mean) / X_std\n",
    "X_valid = (X_valid - X_mean) / X_std\n",
    "X_test = (X_test - X_mean) / X_std\n",
    "\n",
    "X_train = X_train[..., np.newaxis]\n",
    "X_valid = X_valid[..., np.newaxis]\n",
    "X_test = X_test[..., np.newaxis]"
   ]
  },
  {
   "cell_type": "code",
   "execution_count": 8,
   "metadata": {
    "colab": {
     "base_uri": "https://localhost:8080/"
    },
    "id": "rZRUFiz_5tn_",
    "outputId": "c790d43f-8831-4277-9852-061001c5553f"
   },
   "outputs": [
    {
     "data": {
      "text/plain": [
       "(28, 28, 1)"
      ]
     },
     "execution_count": 8,
     "metadata": {},
     "output_type": "execute_result"
    }
   ],
   "source": [
    "X_train.shape[1:]"
   ]
  },
  {
   "cell_type": "code",
   "execution_count": 12,
   "metadata": {
    "id": "qBTSQ1ha5VC3"
   },
   "outputs": [],
   "source": [
    "model = keras.models.Sequential([\n",
    "                                 keras.layers.Conv2D(64, 7, activation=\"relu\", padding = \"same\",\n",
    "                                                     input_shape=[28,28,1]),\n",
    "                                 keras.layers.MaxPool2D(2),\n",
    "                                 # 일반적으로 풀링층을 지난 후 Conv2D의 필터 개수를 두 배로 늘림.\n",
    "                                 # Conv2D층을 반복해 쌓아올림. 이미지가 클 경우 더 쌓을 수도 있음.(하이퍼파라미터)\n",
    "                                 keras.layers.Conv2D(128, 3, activation=\"relu\", padding = \"same\"),\n",
    "                                 keras.layers.Conv2D(128, 3, activation=\"relu\", padding = \"same\"),\n",
    "                                 keras.layers.MaxPool2D(2),\n",
    "                                 keras.layers.Conv2D(256, 3, activation=\"relu\", padding = \"same\"),\n",
    "                                 keras.layers.Conv2D(256, 3, activation=\"relu\", padding = \"same\"),\n",
    "                                 keras.layers.MaxPool2D(2),\n",
    "                                 keras.layers.Flatten(),\n",
    "                                 keras.layers.Dense(128, activation=\"relu\"),\n",
    "                                 keras.layers.Dropout(0.5),\n",
    "                                 keras.layers.Dense(64, activation=\"relu\"),\n",
    "                                 keras.layers.Dropout(0.5),\n",
    "                                 keras.layers.Dense(10, activation=\"softmax\")\n",
    "])"
   ]
  },
  {
   "cell_type": "code",
   "execution_count": 13,
   "metadata": {
    "colab": {
     "base_uri": "https://localhost:8080/"
    },
    "id": "RRh3NAwI6USE",
    "outputId": "bc74b04f-9c6c-4666-ef15-42364cf0498c"
   },
   "outputs": [
    {
     "name": "stdout",
     "output_type": "stream",
     "text": [
      "Epoch 1/10\n",
      "1719/1719 [==============================] - 16s 9ms/step - loss: 0.6920 - accuracy: 0.7593 - val_loss: 0.3736 - val_accuracy: 0.8624\n",
      "Epoch 2/10\n",
      "1719/1719 [==============================] - 15s 9ms/step - loss: 0.4107 - accuracy: 0.8648 - val_loss: 0.3174 - val_accuracy: 0.8860\n",
      "Epoch 3/10\n",
      "1719/1719 [==============================] - 15s 9ms/step - loss: 0.3538 - accuracy: 0.8828 - val_loss: 0.3033 - val_accuracy: 0.8898\n",
      "Epoch 4/10\n",
      "1719/1719 [==============================] - 14s 8ms/step - loss: 0.3218 - accuracy: 0.8914 - val_loss: 0.2748 - val_accuracy: 0.8952\n",
      "Epoch 5/10\n",
      "1719/1719 [==============================] - 15s 8ms/step - loss: 0.3007 - accuracy: 0.8979 - val_loss: 0.2817 - val_accuracy: 0.8954\n",
      "Epoch 6/10\n",
      "1719/1719 [==============================] - 15s 8ms/step - loss: 0.2913 - accuracy: 0.9024 - val_loss: 0.2859 - val_accuracy: 0.8984\n",
      "Epoch 7/10\n",
      "1719/1719 [==============================] - 14s 8ms/step - loss: 0.2759 - accuracy: 0.9069 - val_loss: 0.2763 - val_accuracy: 0.9024\n",
      "Epoch 8/10\n",
      "1719/1719 [==============================] - 15s 8ms/step - loss: 0.2549 - accuracy: 0.9113 - val_loss: 0.2847 - val_accuracy: 0.9024\n",
      "Epoch 9/10\n",
      "1719/1719 [==============================] - 15s 8ms/step - loss: 0.2558 - accuracy: 0.9125 - val_loss: 0.2734 - val_accuracy: 0.9048\n",
      "Epoch 10/10\n",
      "1719/1719 [==============================] - 14s 8ms/step - loss: 0.2438 - accuracy: 0.9172 - val_loss: 0.2858 - val_accuracy: 0.9096\n",
      "313/313 [==============================] - 1s 3ms/step - loss: 0.2886 - accuracy: 0.9043\n"
     ]
    }
   ],
   "source": [
    "model.compile(loss=\"sparse_categorical_crossentropy\", optimizer=\"nadam\", metrics=[\"accuracy\"])\n",
    "history = model.fit(X_train, y_train, epochs=10, validation_data=(X_valid, y_valid))\n",
    "score = model.evaluate(X_test, y_test)\n",
    "X_new = X_test[:10]\n",
    "y_pred = model.predict(X_new)"
   ]
  }
 ],
 "metadata": {
  "accelerator": "GPU",
  "colab": {
   "name": "3. CNN으로 패션 MNIST 문제 풀기.ipynb",
   "provenance": []
  },
  "kernelspec": {
   "display_name": "Python 3",
   "language": "python",
   "name": "python3"
  },
  "language_info": {
   "codemirror_mode": {
    "name": "ipython",
    "version": 3
   },
   "file_extension": ".py",
   "mimetype": "text/x-python",
   "name": "python",
   "nbconvert_exporter": "python",
   "pygments_lexer": "ipython3",
   "version": "3.8.8"
  }
 },
 "nbformat": 4,
 "nbformat_minor": 1
}
