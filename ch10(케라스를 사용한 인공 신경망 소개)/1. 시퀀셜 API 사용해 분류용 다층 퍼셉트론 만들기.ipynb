{
 "cells": [
  {
   "cell_type": "code",
   "execution_count": 1,
   "metadata": {
    "executionInfo": {
     "elapsed": 2976,
     "status": "ok",
     "timestamp": 1641829302457,
     "user": {
      "displayName": "박영제",
      "photoUrl": "https://lh3.googleusercontent.com/a/default-user=s64",
      "userId": "16785467788464786007"
     },
     "user_tz": -540
    },
    "id": "s6xlH5lbprS9"
   },
   "outputs": [],
   "source": [
    "import tensorflow as tf"
   ]
  },
  {
   "cell_type": "code",
   "execution_count": 2,
   "metadata": {
    "executionInfo": {
     "elapsed": 284,
     "status": "ok",
     "timestamp": 1641829312237,
     "user": {
      "displayName": "박영제",
      "photoUrl": "https://lh3.googleusercontent.com/a/default-user=s64",
      "userId": "16785467788464786007"
     },
     "user_tz": -540
    },
    "id": "gJeiQezGps8h"
   },
   "outputs": [],
   "source": [
    "from tensorflow import keras"
   ]
  },
  {
   "cell_type": "code",
   "execution_count": 3,
   "metadata": {
    "colab": {
     "base_uri": "https://localhost:8080/"
    },
    "executionInfo": {
     "elapsed": 1174,
     "status": "ok",
     "timestamp": 1641829366445,
     "user": {
      "displayName": "박영제",
      "photoUrl": "https://lh3.googleusercontent.com/a/default-user=s64",
      "userId": "16785467788464786007"
     },
     "user_tz": -540
    },
    "id": "pymZNPb_pyIm",
    "outputId": "2863aee9-4438-45c6-9ddd-f50356749bb2"
   },
   "outputs": [
    {
     "name": "stdout",
     "output_type": "stream",
     "text": [
      "Downloading data from https://storage.googleapis.com/tensorflow/tf-keras-datasets/train-labels-idx1-ubyte.gz\n",
      "32768/29515 [=================================] - 0s 0us/step\n",
      "40960/29515 [=========================================] - 0s 0us/step\n",
      "Downloading data from https://storage.googleapis.com/tensorflow/tf-keras-datasets/train-images-idx3-ubyte.gz\n",
      "26427392/26421880 [==============================] - 0s 0us/step\n",
      "26435584/26421880 [==============================] - 0s 0us/step\n",
      "Downloading data from https://storage.googleapis.com/tensorflow/tf-keras-datasets/t10k-labels-idx1-ubyte.gz\n",
      "16384/5148 [===============================================================================================] - 0s 0us/step\n",
      "Downloading data from https://storage.googleapis.com/tensorflow/tf-keras-datasets/t10k-images-idx3-ubyte.gz\n",
      "4423680/4422102 [==============================] - 0s 0us/step\n",
      "4431872/4422102 [==============================] - 0s 0us/step\n"
     ]
    }
   ],
   "source": [
    "fashion_mnist = keras.datasets.fashion_mnist\n",
    "(X_train_full, y_train_full), (X_test, y_test) = fashion_mnist.load_data()"
   ]
  },
  {
   "cell_type": "code",
   "execution_count": 4,
   "metadata": {
    "colab": {
     "base_uri": "https://localhost:8080/"
    },
    "executionInfo": {
     "elapsed": 272,
     "status": "ok",
     "timestamp": 1641829376503,
     "user": {
      "displayName": "박영제",
      "photoUrl": "https://lh3.googleusercontent.com/a/default-user=s64",
      "userId": "16785467788464786007"
     },
     "user_tz": -540
    },
    "id": "t5XF4aqNp_SW",
    "outputId": "ba82a0d6-dab1-460f-f213-4faf17727b4f"
   },
   "outputs": [
    {
     "data": {
      "text/plain": [
       "(60000, 28, 28)"
      ]
     },
     "execution_count": 4,
     "metadata": {},
     "output_type": "execute_result"
    }
   ],
   "source": [
    "X_train_full.shape"
   ]
  },
  {
   "cell_type": "code",
   "execution_count": 14,
   "metadata": {
    "executionInfo": {
     "elapsed": 272,
     "status": "ok",
     "timestamp": 1641829799697,
     "user": {
      "displayName": "박영제",
      "photoUrl": "https://lh3.googleusercontent.com/a/default-user=s64",
      "userId": "16785467788464786007"
     },
     "user_tz": -540
    },
    "id": "QWdYblScqB9h"
   },
   "outputs": [],
   "source": [
    "X_valid, X_train = X_train_full[:5000] / 255.0, X_train_full[5000:] / 255.0\n",
    "y_valid, y_train = y_train_full[:5000], y_train_full[5000:]\n",
    "X_test = X_test / 255.0"
   ]
  },
  {
   "cell_type": "code",
   "execution_count": 7,
   "metadata": {
    "executionInfo": {
     "elapsed": 256,
     "status": "ok",
     "timestamp": 1641829521337,
     "user": {
      "displayName": "박영제",
      "photoUrl": "https://lh3.googleusercontent.com/a/default-user=s64",
      "userId": "16785467788464786007"
     },
     "user_tz": -540
    },
    "id": "vmXEKsjeqT6J"
   },
   "outputs": [],
   "source": [
    "class_names = [\"T-shirt/top\", \"Trouser\", \"Pullover\", \"Dress\", \"Coat\", \"Sandal\", \"Shirt\", \"Sneaker\", \"Bag\", \"Ankle boot\"]"
   ]
  },
  {
   "cell_type": "code",
   "execution_count": 8,
   "metadata": {
    "colab": {
     "base_uri": "https://localhost:8080/",
     "height": 35
    },
    "executionInfo": {
     "elapsed": 4,
     "status": "ok",
     "timestamp": 1641829533694,
     "user": {
      "displayName": "박영제",
      "photoUrl": "https://lh3.googleusercontent.com/a/default-user=s64",
      "userId": "16785467788464786007"
     },
     "user_tz": -540
    },
    "id": "5XIrwNjXqlUt",
    "outputId": "f29e823e-536f-4eba-dc61-469dd8740220"
   },
   "outputs": [
    {
     "data": {
      "application/vnd.google.colaboratory.intrinsic+json": {
       "type": "string"
      },
      "text/plain": [
       "'Coat'"
      ]
     },
     "execution_count": 8,
     "metadata": {},
     "output_type": "execute_result"
    }
   ],
   "source": [
    "class_names[y_train[0]]"
   ]
  },
  {
   "cell_type": "code",
   "execution_count": 10,
   "metadata": {
    "executionInfo": {
     "elapsed": 288,
     "status": "ok",
     "timestamp": 1641829614574,
     "user": {
      "displayName": "박영제",
      "photoUrl": "https://lh3.googleusercontent.com/a/default-user=s64",
      "userId": "16785467788464786007"
     },
     "user_tz": -540
    },
    "id": "WNDEszJmqoY8"
   },
   "outputs": [],
   "source": [
    "model = keras.models.Sequential()\n",
    "model.add(keras.layers.Flatten(input_shape=[28,28]))\n",
    "model.add(keras.layers.Dense(300, activation='relu'))\n",
    "model.add(keras.layers.Dense(100, activation='relu'))\n",
    "model.add(keras.layers.Dense(10, activation='softmax'))"
   ]
  },
  {
   "cell_type": "code",
   "execution_count": 11,
   "metadata": {
    "colab": {
     "base_uri": "https://localhost:8080/"
    },
    "executionInfo": {
     "elapsed": 250,
     "status": "ok",
     "timestamp": 1641829657180,
     "user": {
      "displayName": "박영제",
      "photoUrl": "https://lh3.googleusercontent.com/a/default-user=s64",
      "userId": "16785467788464786007"
     },
     "user_tz": -540
    },
    "id": "rU7vxSYbq2-N",
    "outputId": "09035d9d-b9ab-4e7f-8456-32c44464470f"
   },
   "outputs": [
    {
     "name": "stdout",
     "output_type": "stream",
     "text": [
      "Model: \"sequential\"\n",
      "_________________________________________________________________\n",
      " Layer (type)                Output Shape              Param #   \n",
      "=================================================================\n",
      " flatten (Flatten)           (None, 784)               0         \n",
      "                                                                 \n",
      " dense (Dense)               (None, 300)               235500    \n",
      "                                                                 \n",
      " dense_1 (Dense)             (None, 100)               30100     \n",
      "                                                                 \n",
      " dense_2 (Dense)             (None, 10)                1010      \n",
      "                                                                 \n",
      "=================================================================\n",
      "Total params: 266,610\n",
      "Trainable params: 266,610\n",
      "Non-trainable params: 0\n",
      "_________________________________________________________________\n"
     ]
    }
   ],
   "source": [
    "model.summary()"
   ]
  },
  {
   "cell_type": "code",
   "execution_count": 12,
   "metadata": {
    "executionInfo": {
     "elapsed": 269,
     "status": "ok",
     "timestamp": 1641829745810,
     "user": {
      "displayName": "박영제",
      "photoUrl": "https://lh3.googleusercontent.com/a/default-user=s64",
      "userId": "16785467788464786007"
     },
     "user_tz": -540
    },
    "id": "-Zh0JKpKrGYw"
   },
   "outputs": [],
   "source": [
    "model.compile(loss=\"sparse_categorical_crossentropy\",\n",
    "              optimizer=\"sgd\",\n",
    "              metrics=[\"accuracy\"])"
   ]
  },
  {
   "cell_type": "code",
   "execution_count": 15,
   "metadata": {
    "colab": {
     "base_uri": "https://localhost:8080/"
    },
    "executionInfo": {
     "elapsed": 262852,
     "status": "ok",
     "timestamp": 1641830066249,
     "user": {
      "displayName": "박영제",
      "photoUrl": "https://lh3.googleusercontent.com/a/default-user=s64",
      "userId": "16785467788464786007"
     },
     "user_tz": -540
    },
    "id": "tLlFV1RJrcIE",
    "outputId": "7a58ea6f-0149-4c83-894d-6946f65ad5c5"
   },
   "outputs": [
    {
     "name": "stdout",
     "output_type": "stream",
     "text": [
      "Epoch 1/30\n",
      "1719/1719 [==============================] - 8s 4ms/step - loss: 0.7366 - accuracy: 0.7552 - val_loss: 0.5284 - val_accuracy: 0.8220\n",
      "Epoch 2/30\n",
      "1719/1719 [==============================] - 7s 4ms/step - loss: 0.4935 - accuracy: 0.8292 - val_loss: 0.4458 - val_accuracy: 0.8494\n",
      "Epoch 3/30\n",
      "1719/1719 [==============================] - 7s 4ms/step - loss: 0.4457 - accuracy: 0.8453 - val_loss: 0.4122 - val_accuracy: 0.8576\n",
      "Epoch 4/30\n",
      "1719/1719 [==============================] - 7s 4ms/step - loss: 0.4167 - accuracy: 0.8535 - val_loss: 0.3997 - val_accuracy: 0.8614\n",
      "Epoch 5/30\n",
      "1719/1719 [==============================] - 8s 5ms/step - loss: 0.3971 - accuracy: 0.8599 - val_loss: 0.3974 - val_accuracy: 0.8636\n",
      "Epoch 6/30\n",
      "1719/1719 [==============================] - 8s 5ms/step - loss: 0.3799 - accuracy: 0.8652 - val_loss: 0.3667 - val_accuracy: 0.8718\n",
      "Epoch 7/30\n",
      "1719/1719 [==============================] - 8s 5ms/step - loss: 0.3651 - accuracy: 0.8708 - val_loss: 0.3632 - val_accuracy: 0.8710\n",
      "Epoch 8/30\n",
      "1719/1719 [==============================] - 8s 5ms/step - loss: 0.3533 - accuracy: 0.8744 - val_loss: 0.3521 - val_accuracy: 0.8766\n",
      "Epoch 9/30\n",
      "1719/1719 [==============================] - 8s 4ms/step - loss: 0.3432 - accuracy: 0.8783 - val_loss: 0.3483 - val_accuracy: 0.8762\n",
      "Epoch 10/30\n",
      "1719/1719 [==============================] - 8s 5ms/step - loss: 0.3341 - accuracy: 0.8804 - val_loss: 0.3434 - val_accuracy: 0.8800\n",
      "Epoch 11/30\n",
      "1719/1719 [==============================] - 8s 4ms/step - loss: 0.3261 - accuracy: 0.8837 - val_loss: 0.3339 - val_accuracy: 0.8800\n",
      "Epoch 12/30\n",
      "1719/1719 [==============================] - 8s 4ms/step - loss: 0.3181 - accuracy: 0.8865 - val_loss: 0.3308 - val_accuracy: 0.8842\n",
      "Epoch 13/30\n",
      "1719/1719 [==============================] - 8s 4ms/step - loss: 0.3098 - accuracy: 0.8887 - val_loss: 0.3372 - val_accuracy: 0.8810\n",
      "Epoch 14/30\n",
      "1719/1719 [==============================] - 8s 5ms/step - loss: 0.3034 - accuracy: 0.8908 - val_loss: 0.3227 - val_accuracy: 0.8824\n",
      "Epoch 15/30\n",
      "1719/1719 [==============================] - 8s 5ms/step - loss: 0.2961 - accuracy: 0.8941 - val_loss: 0.3216 - val_accuracy: 0.8848\n",
      "Epoch 16/30\n",
      "1719/1719 [==============================] - 8s 4ms/step - loss: 0.2904 - accuracy: 0.8956 - val_loss: 0.3340 - val_accuracy: 0.8778\n",
      "Epoch 17/30\n",
      "1719/1719 [==============================] - 8s 5ms/step - loss: 0.2839 - accuracy: 0.8989 - val_loss: 0.3206 - val_accuracy: 0.8858\n",
      "Epoch 18/30\n",
      "1719/1719 [==============================] - 8s 5ms/step - loss: 0.2789 - accuracy: 0.8995 - val_loss: 0.3103 - val_accuracy: 0.8852\n",
      "Epoch 19/30\n",
      "1719/1719 [==============================] - 8s 5ms/step - loss: 0.2730 - accuracy: 0.9020 - val_loss: 0.3115 - val_accuracy: 0.8890\n",
      "Epoch 20/30\n",
      "1719/1719 [==============================] - 8s 5ms/step - loss: 0.2688 - accuracy: 0.9024 - val_loss: 0.3071 - val_accuracy: 0.8894\n",
      "Epoch 21/30\n",
      "1719/1719 [==============================] - 8s 5ms/step - loss: 0.2642 - accuracy: 0.9047 - val_loss: 0.3140 - val_accuracy: 0.8860\n",
      "Epoch 22/30\n",
      "1719/1719 [==============================] - 8s 5ms/step - loss: 0.2601 - accuracy: 0.9062 - val_loss: 0.3082 - val_accuracy: 0.8904\n",
      "Epoch 23/30\n",
      "1719/1719 [==============================] - 8s 5ms/step - loss: 0.2552 - accuracy: 0.9072 - val_loss: 0.3052 - val_accuracy: 0.8878\n",
      "Epoch 24/30\n",
      "1719/1719 [==============================] - 8s 4ms/step - loss: 0.2505 - accuracy: 0.9096 - val_loss: 0.3061 - val_accuracy: 0.8912\n",
      "Epoch 25/30\n",
      "1719/1719 [==============================] - 8s 4ms/step - loss: 0.2458 - accuracy: 0.9112 - val_loss: 0.2987 - val_accuracy: 0.8936\n",
      "Epoch 26/30\n",
      "1719/1719 [==============================] - 8s 4ms/step - loss: 0.2433 - accuracy: 0.9120 - val_loss: 0.2958 - val_accuracy: 0.8934\n",
      "Epoch 27/30\n",
      "1719/1719 [==============================] - 8s 4ms/step - loss: 0.2386 - accuracy: 0.9139 - val_loss: 0.3096 - val_accuracy: 0.8866\n",
      "Epoch 28/30\n",
      "1719/1719 [==============================] - 8s 4ms/step - loss: 0.2348 - accuracy: 0.9145 - val_loss: 0.3122 - val_accuracy: 0.8856\n",
      "Epoch 29/30\n",
      "1719/1719 [==============================] - 8s 4ms/step - loss: 0.2312 - accuracy: 0.9168 - val_loss: 0.2950 - val_accuracy: 0.8960\n",
      "Epoch 30/30\n",
      "1719/1719 [==============================] - 8s 4ms/step - loss: 0.2273 - accuracy: 0.9187 - val_loss: 0.2878 - val_accuracy: 0.8966\n"
     ]
    }
   ],
   "source": [
    "history = model.fit(X_train, y_train, epochs=30, validation_data=(X_valid, y_valid))"
   ]
  },
  {
   "cell_type": "code",
   "execution_count": 16,
   "metadata": {
    "colab": {
     "base_uri": "https://localhost:8080/",
     "height": 324
    },
    "executionInfo": {
     "elapsed": 367,
     "status": "ok",
     "timestamp": 1641830070513,
     "user": {
      "displayName": "박영제",
      "photoUrl": "https://lh3.googleusercontent.com/a/default-user=s64",
      "userId": "16785467788464786007"
     },
     "user_tz": -540
    },
    "id": "5uFyioU4rl7l",
    "outputId": "b17eae90-da8a-439f-e8c1-e69a80a4078a"
   },
   "outputs": [
    {
     "data": {
      "image/png": "[encoded data removed]",
      "text/plain": [
       "<Figure size 576x360 with 1 Axes>"
      ]
     },
     "metadata": {
      "needs_background": "light"
     },
     "output_type": "display_data"
    }
   ],
   "source": [
    "import pandas as pd\n",
    "import matplotlib.pyplot as plt\n",
    "\n",
    "pd.DataFrame(history.history).plot(figsize=(8,5))\n",
    "plt.grid(True)\n",
    "plt.gca().set_ylim(0,1)\n",
    "plt.show()"
   ]
  },
  {
   "cell_type": "code",
   "execution_count": 18,
   "metadata": {
    "colab": {
     "base_uri": "https://localhost:8080/"
    },
    "executionInfo": {
     "elapsed": 1385,
     "status": "ok",
     "timestamp": 1641830135183,
     "user": {
      "displayName": "박영제",
      "photoUrl": "https://lh3.googleusercontent.com/a/default-user=s64",
      "userId": "16785467788464786007"
     },
     "user_tz": -540
    },
    "id": "FWNBCpg9srX0",
    "outputId": "927596ee-103a-4c58-dbb6-5ae4f17d5f77"
   },
   "outputs": [
    {
     "name": "stdout",
     "output_type": "stream",
     "text": [
      "313/313 [==============================] - 1s 3ms/step - loss: 2.9873 - accuracy: 0.1000\n"
     ]
    },
    {
     "data": {
      "text/plain": [
       "[2.9873225688934326, 0.10000000149011612]"
      ]
     },
     "execution_count": 18,
     "metadata": {},
     "output_type": "execute_result"
    }
   ],
   "source": [
    "model.evaluate(X_test, Y_test)"
   ]
  },
  {
   "cell_type": "code",
   "execution_count": null,
   "metadata": {
    "id": "6T1VqqszswXF"
   },
   "outputs": [],
   "source": []
  }
 ],
 "metadata": {
  "colab": {
   "authorship_tag": "ABX9TyMlCVluPlHp8g78ww6SaUox",
   "name": "first-network(mnist_fashion).ipynb",
   "provenance": []
  },
  "kernelspec": {
   "display_name": "Python 3",
   "language": "python",
   "name": "python3"
  },
  "language_info": {
   "codemirror_mode": {
    "name": "ipython",
    "version": 3
   },
   "file_extension": ".py",
   "mimetype": "text/x-python",
   "name": "python",
   "nbconvert_exporter": "python",
   "pygments_lexer": "ipython3",
   "version": "3.8.8"
  }
 },
 "nbformat": 4,
 "nbformat_minor": 1
}
