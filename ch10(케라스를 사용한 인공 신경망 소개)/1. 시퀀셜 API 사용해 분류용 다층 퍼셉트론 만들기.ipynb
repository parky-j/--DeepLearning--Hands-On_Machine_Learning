{
 "cells": [
  {
   "cell_type": "code",
   "execution_count": 2,
   "metadata": {
    "executionInfo": {
     "elapsed": 2976,
     "status": "ok",
     "timestamp": 1641829302457,
     "user": {
      "displayName": "박영제",
      "photoUrl": "https://lh3.googleusercontent.com/a/default-user=s64",
      "userId": "16785467788464786007"
     },
     "user_tz": -540
    },
    "id": "s6xlH5lbprS9"
   },
   "outputs": [],
   "source": [
    "import tensorflow as tf"
   ]
  },
  {
   "cell_type": "code",
   "execution_count": 3,
   "metadata": {
    "executionInfo": {
     "elapsed": 284,
     "status": "ok",
     "timestamp": 1641829312237,
     "user": {
      "displayName": "박영제",
      "photoUrl": "https://lh3.googleusercontent.com/a/default-user=s64",
      "userId": "16785467788464786007"
     },
     "user_tz": -540
    },
    "id": "gJeiQezGps8h"
   },
   "outputs": [],
   "source": [
    "from tensorflow import keras"
   ]
  },
  {
   "cell_type": "code",
   "execution_count": 4,
   "metadata": {
    "colab": {
     "base_uri": "https://localhost:8080/"
    },
    "executionInfo": {
     "elapsed": 1174,
     "status": "ok",
     "timestamp": 1641829366445,
     "user": {
      "displayName": "박영제",
      "photoUrl": "https://lh3.googleusercontent.com/a/default-user=s64",
      "userId": "16785467788464786007"
     },
     "user_tz": -540
    },
    "id": "pymZNPb_pyIm",
    "outputId": "2863aee9-4438-45c6-9ddd-f50356749bb2"
   },
   "outputs": [
    {
     "name": "stdout",
     "output_type": "stream",
     "text": [
      "Downloading data from https://storage.googleapis.com/tensorflow/tf-keras-datasets/train-labels-idx1-ubyte.gz\n",
      "32768/29515 [=================================] - 0s 0us/step\n",
      "Downloading data from https://storage.googleapis.com/tensorflow/tf-keras-datasets/train-images-idx3-ubyte.gz\n",
      "26427392/26421880 [==============================] - 0s 0us/step\n",
      "Downloading data from https://storage.googleapis.com/tensorflow/tf-keras-datasets/t10k-labels-idx1-ubyte.gz\n",
      "8192/5148 [===============================================] - 0s 0us/step\n",
      "Downloading data from https://storage.googleapis.com/tensorflow/tf-keras-datasets/t10k-images-idx3-ubyte.gz\n",
      "4423680/4422102 [==============================] - 0s 0us/step\n"
     ]
    }
   ],
   "source": [
    "fashion_mnist = keras.datasets.fashion_mnist\n",
    "(X_train_full, y_train_full), (X_test, y_test) = fashion_mnist.load_data()"
   ]
  },
  {
   "cell_type": "code",
   "execution_count": 5,
   "metadata": {
    "colab": {
     "base_uri": "https://localhost:8080/"
    },
    "executionInfo": {
     "elapsed": 272,
     "status": "ok",
     "timestamp": 1641829376503,
     "user": {
      "displayName": "박영제",
      "photoUrl": "https://lh3.googleusercontent.com/a/default-user=s64",
      "userId": "16785467788464786007"
     },
     "user_tz": -540
    },
    "id": "t5XF4aqNp_SW",
    "outputId": "ba82a0d6-dab1-460f-f213-4faf17727b4f"
   },
   "outputs": [
    {
     "data": {
      "text/plain": [
       "(60000, 28, 28)"
      ]
     },
     "execution_count": 5,
     "metadata": {},
     "output_type": "execute_result"
    }
   ],
   "source": [
    "X_train_full.shape"
   ]
  },
  {
   "cell_type": "code",
   "execution_count": 6,
   "metadata": {
    "executionInfo": {
     "elapsed": 272,
     "status": "ok",
     "timestamp": 1641829799697,
     "user": {
      "displayName": "박영제",
      "photoUrl": "https://lh3.googleusercontent.com/a/default-user=s64",
      "userId": "16785467788464786007"
     },
     "user_tz": -540
    },
    "id": "QWdYblScqB9h"
   },
   "outputs": [],
   "source": [
    "X_valid, X_train = X_train_full[:5000] / 255.0, X_train_full[5000:] / 255.0\n",
    "y_valid, y_train = y_train_full[:5000], y_train_full[5000:]\n",
    "X_test = X_test / 255.0"
   ]
  },
  {
   "cell_type": "code",
   "execution_count": 7,
   "metadata": {
    "executionInfo": {
     "elapsed": 256,
     "status": "ok",
     "timestamp": 1641829521337,
     "user": {
      "displayName": "박영제",
      "photoUrl": "https://lh3.googleusercontent.com/a/default-user=s64",
      "userId": "16785467788464786007"
     },
     "user_tz": -540
    },
    "id": "vmXEKsjeqT6J"
   },
   "outputs": [],
   "source": [
    "class_names = [\"T-shirt/top\", \"Trouser\", \"Pullover\", \"Dress\", \"Coat\", \"Sandal\", \"Shirt\", \"Sneaker\", \"Bag\", \"Ankle boot\"]"
   ]
  },
  {
   "cell_type": "code",
   "execution_count": 8,
   "metadata": {
    "colab": {
     "base_uri": "https://localhost:8080/",
     "height": 35
    },
    "executionInfo": {
     "elapsed": 4,
     "status": "ok",
     "timestamp": 1641829533694,
     "user": {
      "displayName": "박영제",
      "photoUrl": "https://lh3.googleusercontent.com/a/default-user=s64",
      "userId": "16785467788464786007"
     },
     "user_tz": -540
    },
    "id": "5XIrwNjXqlUt",
    "outputId": "f29e823e-536f-4eba-dc61-469dd8740220"
   },
   "outputs": [
    {
     "data": {
      "text/plain": [
       "'Coat'"
      ]
     },
     "execution_count": 8,
     "metadata": {},
     "output_type": "execute_result"
    }
   ],
   "source": [
    "class_names[y_train[0]]"
   ]
  },
  {
   "cell_type": "code",
   "execution_count": 9,
   "metadata": {
    "executionInfo": {
     "elapsed": 288,
     "status": "ok",
     "timestamp": 1641829614574,
     "user": {
      "displayName": "박영제",
      "photoUrl": "https://lh3.googleusercontent.com/a/default-user=s64",
      "userId": "16785467788464786007"
     },
     "user_tz": -540
    },
    "id": "WNDEszJmqoY8"
   },
   "outputs": [],
   "source": [
    "model = keras.models.Sequential()\n",
    "model.add(keras.layers.Flatten(input_shape=[28,28]))\n",
    "model.add(keras.layers.Dense(300, activation='relu'))\n",
    "model.add(keras.layers.Dense(100, activation='relu'))\n",
    "model.add(keras.layers.Dense(10, activation='softmax'))"
   ]
  },
  {
   "cell_type": "code",
   "execution_count": 10,
   "metadata": {
    "colab": {
     "base_uri": "https://localhost:8080/"
    },
    "executionInfo": {
     "elapsed": 250,
     "status": "ok",
     "timestamp": 1641829657180,
     "user": {
      "displayName": "박영제",
      "photoUrl": "https://lh3.googleusercontent.com/a/default-user=s64",
      "userId": "16785467788464786007"
     },
     "user_tz": -540
    },
    "id": "rU7vxSYbq2-N",
    "outputId": "09035d9d-b9ab-4e7f-8456-32c44464470f"
   },
   "outputs": [
    {
     "name": "stdout",
     "output_type": "stream",
     "text": [
      "Model: \"sequential\"\n",
      "_________________________________________________________________\n",
      "Layer (type)                 Output Shape              Param #   \n",
      "=================================================================\n",
      "flatten (Flatten)            (None, 784)               0         \n",
      "_________________________________________________________________\n",
      "dense (Dense)                (None, 300)               235500    \n",
      "_________________________________________________________________\n",
      "dense_1 (Dense)              (None, 100)               30100     \n",
      "_________________________________________________________________\n",
      "dense_2 (Dense)              (None, 10)                1010      \n",
      "=================================================================\n",
      "Total params: 266,610\n",
      "Trainable params: 266,610\n",
      "Non-trainable params: 0\n",
      "_________________________________________________________________\n"
     ]
    }
   ],
   "source": [
    "model.summary()"
   ]
  },
  {
   "cell_type": "code",
   "execution_count": 11,
   "metadata": {
    "executionInfo": {
     "elapsed": 269,
     "status": "ok",
     "timestamp": 1641829745810,
     "user": {
      "displayName": "박영제",
      "photoUrl": "https://lh3.googleusercontent.com/a/default-user=s64",
      "userId": "16785467788464786007"
     },
     "user_tz": -540
    },
    "id": "-Zh0JKpKrGYw"
   },
   "outputs": [],
   "source": [
    "model.compile(loss=\"sparse_categorical_crossentropy\",\n",
    "              optimizer=\"sgd\",\n",
    "              metrics=[\"accuracy\"])"
   ]
  },
  {
   "cell_type": "code",
   "execution_count": 12,
   "metadata": {
    "colab": {
     "base_uri": "https://localhost:8080/"
    },
    "executionInfo": {
     "elapsed": 262852,
     "status": "ok",
     "timestamp": 1641830066249,
     "user": {
      "displayName": "박영제",
      "photoUrl": "https://lh3.googleusercontent.com/a/default-user=s64",
      "userId": "16785467788464786007"
     },
     "user_tz": -540
    },
    "id": "tLlFV1RJrcIE",
    "outputId": "7a58ea6f-0149-4c83-894d-6946f65ad5c5"
   },
   "outputs": [
    {
     "name": "stdout",
     "output_type": "stream",
     "text": [
      "Epoch 1/30\n",
      "1719/1719 [==============================] - 2s 1ms/step - loss: 0.7117 - accuracy: 0.7669 - val_loss: 0.5071 - val_accuracy: 0.8336\n",
      "Epoch 2/30\n",
      "1719/1719 [==============================] - 2s 1ms/step - loss: 0.4872 - accuracy: 0.8308 - val_loss: 0.4612 - val_accuracy: 0.8400\n",
      "Epoch 3/30\n",
      "1719/1719 [==============================] - 2s 1ms/step - loss: 0.4429 - accuracy: 0.8446 - val_loss: 0.4381 - val_accuracy: 0.8462\n",
      "Epoch 4/30\n",
      "1719/1719 [==============================] - 2s 1ms/step - loss: 0.4157 - accuracy: 0.8552 - val_loss: 0.4172 - val_accuracy: 0.8578\n",
      "Epoch 5/30\n",
      "1719/1719 [==============================] - 2s 1ms/step - loss: 0.3967 - accuracy: 0.8603 - val_loss: 0.3967 - val_accuracy: 0.8646\n",
      "Epoch 6/30\n",
      "1719/1719 [==============================] - 2s 1ms/step - loss: 0.3804 - accuracy: 0.8667 - val_loss: 0.3929 - val_accuracy: 0.8664\n",
      "Epoch 7/30\n",
      "1719/1719 [==============================] - 2s 1ms/step - loss: 0.3675 - accuracy: 0.8693 - val_loss: 0.3810 - val_accuracy: 0.8696\n",
      "Epoch 8/30\n",
      "1719/1719 [==============================] - 2s 1ms/step - loss: 0.3550 - accuracy: 0.8736 - val_loss: 0.3562 - val_accuracy: 0.8748\n",
      "Epoch 9/30\n",
      "1719/1719 [==============================] - 2s 1ms/step - loss: 0.3440 - accuracy: 0.8783 - val_loss: 0.3596 - val_accuracy: 0.8702\n",
      "Epoch 10/30\n",
      "1719/1719 [==============================] - 2s 995us/step - loss: 0.3345 - accuracy: 0.8813 - val_loss: 0.3464 - val_accuracy: 0.8798\n",
      "Epoch 11/30\n",
      "1719/1719 [==============================] - 2s 1ms/step - loss: 0.3251 - accuracy: 0.8839 - val_loss: 0.3541 - val_accuracy: 0.8762\n",
      "Epoch 12/30\n",
      "1719/1719 [==============================] - 2s 1ms/step - loss: 0.3170 - accuracy: 0.8877 - val_loss: 0.3413 - val_accuracy: 0.8800\n",
      "Epoch 13/30\n",
      "1719/1719 [==============================] - 2s 993us/step - loss: 0.3094 - accuracy: 0.8892 - val_loss: 0.3286 - val_accuracy: 0.8842\n",
      "Epoch 14/30\n",
      "1719/1719 [==============================] - 2s 943us/step - loss: 0.3027 - accuracy: 0.8917 - val_loss: 0.3218 - val_accuracy: 0.8862\n",
      "Epoch 15/30\n",
      "1719/1719 [==============================] - 2s 973us/step - loss: 0.2961 - accuracy: 0.8937 - val_loss: 0.3214 - val_accuracy: 0.8894\n",
      "Epoch 16/30\n",
      "1719/1719 [==============================] - 2s 944us/step - loss: 0.2900 - accuracy: 0.8944 - val_loss: 0.3141 - val_accuracy: 0.8914\n",
      "Epoch 17/30\n",
      "1719/1719 [==============================] - 2s 956us/step - loss: 0.2846 - accuracy: 0.8975 - val_loss: 0.3139 - val_accuracy: 0.8868\n",
      "Epoch 18/30\n",
      "1719/1719 [==============================] - 2s 1ms/step - loss: 0.2788 - accuracy: 0.8986 - val_loss: 0.3161 - val_accuracy: 0.8910\n",
      "Epoch 19/30\n",
      "1719/1719 [==============================] - 2s 1ms/step - loss: 0.2735 - accuracy: 0.9001 - val_loss: 0.3158 - val_accuracy: 0.8906\n",
      "Epoch 20/30\n",
      "1719/1719 [==============================] - 2s 1ms/step - loss: 0.2688 - accuracy: 0.9036 - val_loss: 0.3116 - val_accuracy: 0.8916\n",
      "Epoch 21/30\n",
      "1719/1719 [==============================] - 2s 1ms/step - loss: 0.2645 - accuracy: 0.9039 - val_loss: 0.3283 - val_accuracy: 0.8854\n",
      "Epoch 22/30\n",
      "1719/1719 [==============================] - 2s 1ms/step - loss: 0.2590 - accuracy: 0.9064 - val_loss: 0.3050 - val_accuracy: 0.8898\n",
      "Epoch 23/30\n",
      "1719/1719 [==============================] - 2s 1ms/step - loss: 0.2539 - accuracy: 0.9081 - val_loss: 0.3080 - val_accuracy: 0.8872\n",
      "Epoch 24/30\n",
      "1719/1719 [==============================] - 2s 1ms/step - loss: 0.2498 - accuracy: 0.9102 - val_loss: 0.3022 - val_accuracy: 0.8938\n",
      "Epoch 25/30\n",
      "1719/1719 [==============================] - 2s 896us/step - loss: 0.2458 - accuracy: 0.9114 - val_loss: 0.3178 - val_accuracy: 0.8844\n",
      "Epoch 26/30\n",
      "1719/1719 [==============================] - 2s 885us/step - loss: 0.2415 - accuracy: 0.9128 - val_loss: 0.2973 - val_accuracy: 0.8922\n",
      "Epoch 27/30\n",
      "1719/1719 [==============================] - 2s 897us/step - loss: 0.2379 - accuracy: 0.9145 - val_loss: 0.2907 - val_accuracy: 0.8956\n",
      "Epoch 28/30\n",
      "1719/1719 [==============================] - 2s 891us/step - loss: 0.2345 - accuracy: 0.9153 - val_loss: 0.3168 - val_accuracy: 0.8848\n",
      "Epoch 29/30\n",
      "1719/1719 [==============================] - 2s 990us/step - loss: 0.2289 - accuracy: 0.9179 - val_loss: 0.3041 - val_accuracy: 0.8924\n",
      "Epoch 30/30\n",
      "1719/1719 [==============================] - 2s 889us/step - loss: 0.2259 - accuracy: 0.9190 - val_loss: 0.3211 - val_accuracy: 0.8820\n"
     ]
    }
   ],
   "source": [
    "history = model.fit(X_train, y_train, epochs=30, validation_data=(X_valid, y_valid))"
   ]
  },
  {
   "cell_type": "code",
   "execution_count": 13,
   "metadata": {
    "colab": {
     "base_uri": "https://localhost:8080/",
     "height": 324
    },
    "executionInfo": {
     "elapsed": 367,
     "status": "ok",
     "timestamp": 1641830070513,
     "user": {
      "displayName": "박영제",
      "photoUrl": "https://lh3.googleusercontent.com/a/default-user=s64",
      "userId": "16785467788464786007"
     },
     "user_tz": -540
    },
    "id": "5uFyioU4rl7l",
    "outputId": "b17eae90-da8a-439f-e8c1-e69a80a4078a"
   },
   "outputs": [
    {
     "data": {
      "image/png": "[encoded data removed]",
      "text/plain": [
       "<Figure size 576x360 with 1 Axes>"
      ]
     },
     "metadata": {
      "needs_background": "light"
     },
     "output_type": "display_data"
    }
   ],
   "source": [
    "import pandas as pd\n",
    "import matplotlib.pyplot as plt\n",
    "\n",
    "pd.DataFrame(history.history).plot(figsize=(8,5))\n",
    "plt.grid(True)\n",
    "plt.gca().set_ylim(0,1)\n",
    "plt.show()"
   ]
  },
  {
   "cell_type": "code",
   "execution_count": 14,
   "metadata": {
    "colab": {
     "base_uri": "https://localhost:8080/"
    },
    "executionInfo": {
     "elapsed": 1385,
     "status": "ok",
     "timestamp": 1641830135183,
     "user": {
      "displayName": "박영제",
      "photoUrl": "https://lh3.googleusercontent.com/a/default-user=s64",
      "userId": "16785467788464786007"
     },
     "user_tz": -540
    },
    "id": "FWNBCpg9srX0",
    "outputId": "927596ee-103a-4c58-dbb6-5ae4f17d5f77"
   },
   "outputs": [
    {
     "ename": "NameError",
     "evalue": "name 'Y_test' is not defined",
     "output_type": "error",
     "traceback": [
      "\u001b[1;31m---------------------------------------------------------------------------\u001b[0m",
      "\u001b[1;31mNameError\u001b[0m                                 Traceback (most recent call last)",
      "\u001b[1;32mC:\\Users\\Public\\Documents\\ESTsoft\\CreatorTemp/ipykernel_2404/659655523.py\u001b[0m in \u001b[0;36m<module>\u001b[1;34m\u001b[0m\n\u001b[1;32m----> 1\u001b[1;33m \u001b[0mmodel\u001b[0m\u001b[1;33m.\u001b[0m\u001b[0mevaluate\u001b[0m\u001b[1;33m(\u001b[0m\u001b[0mX_test\u001b[0m\u001b[1;33m,\u001b[0m \u001b[0mY_test\u001b[0m\u001b[1;33m)\u001b[0m\u001b[1;33m\u001b[0m\u001b[1;33m\u001b[0m\u001b[0m\n\u001b[0m",
      "\u001b[1;31mNameError\u001b[0m: name 'Y_test' is not defined"
     ]
    }
   ],
   "source": [
    "model.evaluate(X_test, Y_test)"
   ]
  },
  {
   "cell_type": "code",
   "execution_count": null,
   "metadata": {
    "id": "6T1VqqszswXF"
   },
   "outputs": [],
   "source": []
  }
 ],
 "metadata": {
  "colab": {
   "authorship_tag": "ABX9TyMlCVluPlHp8g78ww6SaUox",
   "name": "first-network(mnist_fashion).ipynb",
   "provenance": []
  },
  "kernelspec": {
   "display_name": "Python 3 (ipykernel)",
   "language": "python",
   "name": "python3"
  },
  "language_info": {
   "codemirror_mode": {
    "name": "ipython",
    "version": 3
   },
   "file_extension": ".py",
   "mimetype": "text/x-python",
   "name": "python",
   "nbconvert_exporter": "python",
   "pygments_lexer": "ipython3",
   "version": "3.8.6rc1"
  }
 },
 "nbformat": 4,
 "nbformat_minor": 1
}
