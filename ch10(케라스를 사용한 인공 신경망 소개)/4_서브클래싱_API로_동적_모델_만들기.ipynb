{
  "nbformat": 4,
  "nbformat_minor": 0,
  "metadata": {
    "colab": {
      "name": "4. 서브클래싱 API로 동적 모델 만들기.ipynb",
      "provenance": []
    },
    "kernelspec": {
      "name": "python3",
      "display_name": "Python 3"
    },
    "language_info": {
      "name": "python"
    }
  },
  "cells": [
    {
      "cell_type": "code",
      "source": [
        "import tensorflow as tf\n",
        "from tensorflow import keras\n",
        "from sklearn.datasets import fetch_california_housing\n",
        "from sklearn.model_selection import train_test_split\n",
        "from sklearn.preprocessing import StandardScaler"
      ],
      "metadata": {
        "id": "v4uE_AHI5cCv"
      },
      "execution_count": 2,
      "outputs": []
    },
    {
      "cell_type": "code",
      "source": [
        "housing = fetch_california_housing()\n",
        "\n",
        "X_train_full, X_test, y_train_full, y_test = train_test_split(\n",
        "    housing.data, housing.target)\n",
        "X_train, X_valid, y_train, y_valid = train_test_split(\n",
        "    X_train_full, y_train_full\n",
        ")\n",
        "\n",
        "scaler = StandardScaler()\n",
        "X_train = scaler.fit_transform(X_train)\n",
        "X_valid = scaler.transform(X_valid)\n",
        "X_test = scaler.transform(X_test)"
      ],
      "metadata": {
        "id": "SLqLd8aP5epm"
      },
      "execution_count": 3,
      "outputs": []
    },
    {
      "cell_type": "code",
      "source": [
        "X_train_A, X_train_B = X_train[:, :5], X_train[:, 2:]\n",
        "X_valid_A, X_valid_B = X_valid[:, :5], X_valid[:, 2:]\n",
        "X_test_A, X_test_B = X_test[:, :5], X_test[:, 2:]\n",
        "X_new_A, X_new_B = X_test_A[:3], X_test_B[:3]"
      ],
      "metadata": {
        "id": "ryPA1YW05omW"
      },
      "execution_count": 6,
      "outputs": []
    },
    {
      "cell_type": "code",
      "execution_count": 7,
      "metadata": {
        "id": "ayqrdaUu5ViD"
      },
      "outputs": [],
      "source": [
        "class WideAndDeepModel(keras.models.Model):\n",
        "    def __init__(self, units=30, activation=\"relu\", **kwargs):\n",
        "        super().__init__(**kwargs)\n",
        "        self.hidden1 = keras.layers.Dense(units, activation=activation)\n",
        "        self.hidden2 = keras.layers.Dense(units, activation=activation)\n",
        "        self.main_output = keras.layers.Dense(1)\n",
        "        self.aux_output = keras.layers.Dense(1)\n",
        "        \n",
        "    def call(self, inputs):\n",
        "        input_A, input_B = inputs\n",
        "        hidden1 = self.hidden1(input_B)\n",
        "        hidden2 = self.hidden2(hidden1)\n",
        "        concat = keras.layers.concatenate([input_A, hidden2])\n",
        "        main_output = self.main_output(concat)\n",
        "        aux_output = self.aux_output(hidden2)\n",
        "        return main_output, aux_output\n",
        "\n",
        "model = WideAndDeepModel(30, activation=\"relu\")"
      ]
    },
    {
      "cell_type": "code",
      "source": [
        "model.compile(loss=\"mse\", loss_weights=[0.9, 0.1], optimizer=keras.optimizers.SGD(learning_rate=1e-3))\n",
        "history = model.fit((X_train_A, X_train_B), (y_train, y_train), epochs=10,\n",
        "                    validation_data=((X_valid_A, X_valid_B), (y_valid, y_valid)))\n",
        "total_loss, main_loss, aux_loss = model.evaluate((X_test_A, X_test_B), (y_test, y_test))\n",
        "y_pred_main, y_pred_aux = model.predict((X_new_A, X_new_B))"
      ],
      "metadata": {
        "colab": {
          "base_uri": "https://localhost:8080/"
        },
        "id": "ytM98xE75Zb9",
        "outputId": "18881eb3-0aec-4c06-f188-c476b1db3352"
      },
      "execution_count": 8,
      "outputs": [
        {
          "output_type": "stream",
          "name": "stdout",
          "text": [
            "Epoch 1/10\n",
            "363/363 [==============================] - 3s 4ms/step - loss: 2.3520 - output_1_loss: 2.1808 - output_2_loss: 3.8930 - val_loss: 1.0313 - val_output_1_loss: 0.8600 - val_output_2_loss: 2.5733\n",
            "Epoch 2/10\n",
            "363/363 [==============================] - 1s 2ms/step - loss: 0.9465 - output_1_loss: 0.8069 - output_2_loss: 2.2031 - val_loss: 0.8248 - val_output_1_loss: 0.7148 - val_output_2_loss: 1.8144\n",
            "Epoch 3/10\n",
            "363/363 [==============================] - 1s 2ms/step - loss: 0.8220 - output_1_loss: 0.7232 - output_2_loss: 1.7104 - val_loss: 0.7568 - val_output_1_loss: 0.6705 - val_output_2_loss: 1.5337\n",
            "Epoch 4/10\n",
            "363/363 [==============================] - 1s 2ms/step - loss: 0.7663 - output_1_loss: 0.6848 - output_2_loss: 1.5002 - val_loss: 0.7183 - val_output_1_loss: 0.6428 - val_output_2_loss: 1.3977\n",
            "Epoch 5/10\n",
            "363/363 [==============================] - 1s 2ms/step - loss: 0.7309 - output_1_loss: 0.6577 - output_2_loss: 1.3896 - val_loss: 0.6890 - val_output_1_loss: 0.6189 - val_output_2_loss: 1.3198\n",
            "Epoch 6/10\n",
            "363/363 [==============================] - 1s 2ms/step - loss: 0.7034 - output_1_loss: 0.6348 - output_2_loss: 1.3208 - val_loss: 0.6657 - val_output_1_loss: 0.5990 - val_output_2_loss: 1.2655\n",
            "Epoch 7/10\n",
            "363/363 [==============================] - 1s 2ms/step - loss: 0.6813 - output_1_loss: 0.6160 - output_2_loss: 1.2689 - val_loss: 0.6458 - val_output_1_loss: 0.5820 - val_output_2_loss: 1.2196\n",
            "Epoch 8/10\n",
            "363/363 [==============================] - 1s 2ms/step - loss: 0.6623 - output_1_loss: 0.5997 - output_2_loss: 1.2254 - val_loss: 0.6304 - val_output_1_loss: 0.5693 - val_output_2_loss: 1.1808\n",
            "Epoch 9/10\n",
            "363/363 [==============================] - 1s 2ms/step - loss: 0.6458 - output_1_loss: 0.5854 - output_2_loss: 1.1897 - val_loss: 0.6162 - val_output_1_loss: 0.5574 - val_output_2_loss: 1.1453\n",
            "Epoch 10/10\n",
            "363/363 [==============================] - 1s 2ms/step - loss: 0.6314 - output_1_loss: 0.5730 - output_2_loss: 1.1563 - val_loss: 0.6013 - val_output_1_loss: 0.5441 - val_output_2_loss: 1.1159\n",
            "162/162 [==============================] - 0s 2ms/step - loss: 0.5522 - output_1_loss: 0.4961 - output_2_loss: 1.0576\n"
          ]
        }
      ]
    }
  ]
}