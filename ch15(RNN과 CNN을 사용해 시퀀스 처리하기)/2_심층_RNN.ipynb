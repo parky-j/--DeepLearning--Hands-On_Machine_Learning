{
  "nbformat": 4,
  "nbformat_minor": 0,
  "metadata": {
    "colab": {
      "name": "2. 심층 RNN.ipynb",
      "provenance": []
    },
    "kernelspec": {
      "name": "python3",
      "display_name": "Python 3"
    },
    "language_info": {
      "name": "python"
    }
  },
  "cells": [
    {
      "cell_type": "code",
      "execution_count": 1,
      "metadata": {
        "colab": {
          "base_uri": "https://localhost:8080/"
        },
        "id": "bNSxC96WiAS2",
        "outputId": "88811bba-7af7-46c1-c8de-4dc615b87804"
      },
      "outputs": [
        {
          "output_type": "stream",
          "name": "stdout",
          "text": [
            "감지된 GPU가 없습니다. GPU가 없으면 LSTM과 CNN이 매우 느릴 수 있습니다.\n",
            "런타임 > 런타임 유형 변경 메뉴를 선택하고 하드웨어 가속기로 GPU를 고르세요.\n"
          ]
        }
      ],
      "source": [
        "# 파이썬 ≥3.5 필수\n",
        "import sys\n",
        "assert sys.version_info >= (3, 5)\n",
        "\n",
        "# 코랩에서 실행되는 노트북인가요?\n",
        "IS_COLAB = \"google.colab\" in sys.modules\n",
        "\n",
        "# 사이킷런 ≥0.20 필수\n",
        "import sklearn\n",
        "assert sklearn.__version__ >= \"0.20\"\n",
        "\n",
        "# 텐서플로 ≥2.0 필수\n",
        "import tensorflow as tf\n",
        "from tensorflow import keras\n",
        "assert tf.__version__ >= \"2.0\"\n",
        "\n",
        "if not tf.config.list_physical_devices('GPU'):\n",
        "    print(\"감지된 GPU가 없습니다. GPU가 없으면 LSTM과 CNN이 매우 느릴 수 있습니다.\")\n",
        "    if IS_COLAB:\n",
        "        print(\"런타임 > 런타임 유형 변경 메뉴를 선택하고 하드웨어 가속기로 GPU를 고르세요.\")\n",
        "\n",
        "# 공통 모듈 임포트\n",
        "import numpy as np\n",
        "import os\n",
        "from pathlib import Path\n",
        "\n",
        "# 노트북 실행 결과를 동일하게 유지하기 위해\n",
        "np.random.seed(42)\n",
        "tf.random.set_seed(42)\n",
        "\n",
        "# 깔끔한 그래프 출력을 위해\n",
        "%matplotlib inline\n",
        "import matplotlib as mpl\n",
        "import matplotlib.pyplot as plt\n",
        "mpl.rc('axes', labelsize=14)\n",
        "mpl.rc('xtick', labelsize=12)\n",
        "mpl.rc('ytick', labelsize=12)\n",
        "\n",
        "# 그림을 저장할 위치\n",
        "PROJECT_ROOT_DIR = \".\"\n",
        "CHAPTER_ID = \"rnn\"\n",
        "IMAGES_PATH = os.path.join(PROJECT_ROOT_DIR, \"images\", CHAPTER_ID)\n",
        "os.makedirs(IMAGES_PATH, exist_ok=True)\n",
        "\n",
        "def save_fig(fig_id, tight_layout=True, fig_extension=\"png\", resolution=300):\n",
        "    path = os.path.join(IMAGES_PATH, fig_id + \".\" + fig_extension)\n",
        "    print(\"그림 저장\", fig_id)\n",
        "    if tight_layout:\n",
        "        plt.tight_layout()\n",
        "    plt.savefig(path, format=fig_extension, dpi=resolution)"
      ]
    },
    {
      "cell_type": "code",
      "source": [
        "def generate_time_series(batch_size, n_steps):\n",
        "    freq1, freq2, offsets1, offsets2 = np.random.rand(4, batch_size, 1)\n",
        "    time = np.linspace(0, 1, n_steps)\n",
        "    series = 0.5 * np.sin((time - offsets1) * (freq1 * 10 + 10))  #   웨이브 1\n",
        "    series += 0.2 * np.sin((time - offsets2) * (freq2 * 20 + 20)) # + 웨이브 2\n",
        "    series += 0.1 * (np.random.rand(batch_size, n_steps) - 0.5)   # + 잡음\n",
        "    return series[..., np.newaxis].astype(np.float32)"
      ],
      "metadata": {
        "id": "EQcPTvQaiE1X"
      },
      "execution_count": 2,
      "outputs": []
    },
    {
      "cell_type": "code",
      "source": [
        "n_steps = 50\n",
        "series = generate_time_series(10000, n_steps + 1)\n",
        "X_train, y_train = series[:7000, :n_steps], series[:7000, -1]\n",
        "X_valid, y_valid = series[7000:9000, :n_steps], series[7000:9000, -1]\n",
        "X_test, y_test = series[9000:, :n_steps], series[9000:, -1]"
      ],
      "metadata": {
        "id": "nKY4wM8PiF9A"
      },
      "execution_count": 3,
      "outputs": []
    },
    {
      "cell_type": "code",
      "source": [
        "def plot_series(series, y=None, y_pred=None, x_label=\"$t$\", y_label=\"$x(t)$\", legend=True):\n",
        "    plt.plot(series, \".-\")\n",
        "    if y is not None:\n",
        "        plt.plot(n_steps, y, \"bo\", label=\"Target\")\n",
        "    if y_pred is not None:\n",
        "        plt.plot(n_steps, y_pred, \"rx\", markersize=10, label=\"Prediction\")\n",
        "    plt.grid(True)\n",
        "    if x_label:\n",
        "        plt.xlabel(x_label, fontsize=16)\n",
        "    if y_label:\n",
        "        plt.ylabel(y_label, fontsize=16, rotation=0)\n",
        "    plt.hlines(0, 0, 100, linewidth=1)\n",
        "    plt.axis([0, n_steps + 1, -1, 1])\n",
        "    if legend and (y or y_pred):\n",
        "        plt.legend(fontsize=14, loc=\"upper left\")"
      ],
      "metadata": {
        "id": "v9SW8UNYiHXP"
      },
      "execution_count": 4,
      "outputs": []
    },
    {
      "cell_type": "code",
      "source": [
        "model = keras.models.Sequential([\n",
        "    keras.layers.SimpleRNN(20, return_sequences=True, input_shape=[None, 1]),\n",
        "    keras.layers.SimpleRNN(20, return_sequences=True),\n",
        "    keras.layers.SimpleRNN(1)\n",
        "])\n",
        "\n",
        "model.compile(loss=\"mse\", optimizer=\"adam\")\n",
        "history = model.fit(X_train, y_train, epochs=20,\n",
        "                    validation_data=(X_valid, y_valid))"
      ],
      "metadata": {
        "colab": {
          "base_uri": "https://localhost:8080/"
        },
        "id": "m4JTke74iIxo",
        "outputId": "8ac207a2-4aab-4047-c589-ca225a624805"
      },
      "execution_count": 5,
      "outputs": [
        {
          "output_type": "stream",
          "name": "stdout",
          "text": [
            "Epoch 1/20\n",
            "219/219 [==============================] - 12s 44ms/step - loss: 0.0492 - val_loss: 0.0090\n",
            "Epoch 2/20\n",
            "219/219 [==============================] - 6s 28ms/step - loss: 0.0070 - val_loss: 0.0065\n",
            "Epoch 3/20\n",
            "219/219 [==============================] - 8s 39ms/step - loss: 0.0053 - val_loss: 0.0045\n",
            "Epoch 4/20\n",
            "219/219 [==============================] - 7s 31ms/step - loss: 0.0045 - val_loss: 0.0040\n",
            "Epoch 5/20\n",
            "219/219 [==============================] - 6s 27ms/step - loss: 0.0042 - val_loss: 0.0040\n",
            "Epoch 6/20\n",
            "219/219 [==============================] - 6s 28ms/step - loss: 0.0038 - val_loss: 0.0036\n",
            "Epoch 7/20\n",
            "219/219 [==============================] - 7s 32ms/step - loss: 0.0038 - val_loss: 0.0040\n",
            "Epoch 8/20\n",
            "219/219 [==============================] - 7s 31ms/step - loss: 0.0037 - val_loss: 0.0033\n",
            "Epoch 9/20\n",
            "219/219 [==============================] - 6s 28ms/step - loss: 0.0036 - val_loss: 0.0032\n",
            "Epoch 10/20\n",
            "219/219 [==============================] - 6s 28ms/step - loss: 0.0035 - val_loss: 0.0031\n",
            "Epoch 11/20\n",
            "219/219 [==============================] - 6s 30ms/step - loss: 0.0034 - val_loss: 0.0030\n",
            "Epoch 12/20\n",
            "219/219 [==============================] - 6s 28ms/step - loss: 0.0033 - val_loss: 0.0031\n",
            "Epoch 13/20\n",
            "219/219 [==============================] - 12s 56ms/step - loss: 0.0034 - val_loss: 0.0031\n",
            "Epoch 14/20\n",
            "219/219 [==============================] - 7s 33ms/step - loss: 0.0033 - val_loss: 0.0032\n",
            "Epoch 15/20\n",
            "219/219 [==============================] - 6s 28ms/step - loss: 0.0034 - val_loss: 0.0033\n",
            "Epoch 16/20\n",
            "219/219 [==============================] - 6s 28ms/step - loss: 0.0035 - val_loss: 0.0030\n",
            "Epoch 17/20\n",
            "219/219 [==============================] - 6s 28ms/step - loss: 0.0033 - val_loss: 0.0029\n",
            "Epoch 18/20\n",
            "219/219 [==============================] - 6s 28ms/step - loss: 0.0033 - val_loss: 0.0030\n",
            "Epoch 19/20\n",
            "219/219 [==============================] - 6s 28ms/step - loss: 0.0032 - val_loss: 0.0029\n",
            "Epoch 20/20\n",
            "219/219 [==============================] - 6s 28ms/step - loss: 0.0032 - val_loss: 0.0029\n"
          ]
        }
      ]
    },
    {
      "cell_type": "code",
      "source": [
        "model.evaluate(X_valid, y_valid)"
      ],
      "metadata": {
        "colab": {
          "base_uri": "https://localhost:8080/"
        },
        "id": "wfUQQEcXiLAp",
        "outputId": "9dd5dc9a-112d-4f7b-e036-bf236552129f"
      },
      "execution_count": 6,
      "outputs": [
        {
          "output_type": "stream",
          "name": "stdout",
          "text": [
            "63/63 [==============================] - 1s 12ms/step - loss: 0.0029\n"
          ]
        },
        {
          "output_type": "execute_result",
          "data": {
            "text/plain": [
              "0.002910564886406064"
            ]
          },
          "metadata": {},
          "execution_count": 6
        }
      ]
    },
    {
      "cell_type": "code",
      "source": [
        "def plot_learning_curves(loss, val_loss):\n",
        "    plt.plot(np.arange(len(loss)) + 0.5, loss, \"b.-\", label=\"Training loss\")\n",
        "    plt.plot(np.arange(len(val_loss)) + 1, val_loss, \"r.-\", label=\"Validation loss\")\n",
        "    plt.gca().xaxis.set_major_locator(mpl.ticker.MaxNLocator(integer=True))\n",
        "    plt.axis([1, 20, 0, 0.05])\n",
        "    plt.legend(fontsize=14)\n",
        "    plt.xlabel(\"Epochs\")\n",
        "    plt.ylabel(\"Loss\")\n",
        "    plt.grid(True)\n",
        "\n",
        "plot_learning_curves(history.history[\"loss\"], history.history[\"val_loss\"])\n",
        "plt.show()"
      ],
      "metadata": {
        "colab": {
          "base_uri": "https://localhost:8080/",
          "height": 291
        },
        "id": "sz_DInq8iMY4",
        "outputId": "dea470dd-88eb-488a-8629-990f2a16fd8b"
      },
      "execution_count": 8,
      "outputs": [
        {
          "output_type": "display_data",
          "data": {
            "image/png": "[encoded data removed]",
            "text/plain": [
              "<Figure size 432x288 with 1 Axes>"
            ]
          },
          "metadata": {
            "needs_background": "light"
          }
        }
      ]
    },
    {
      "cell_type": "code",
      "source": [
        "y_pred = model.predict(X_valid)\n",
        "plot_series(X_valid[0, :, 0], y_valid[0, 0], y_pred[0, 0])\n",
        "plt.show()"
      ],
      "metadata": {
        "colab": {
          "base_uri": "https://localhost:8080/",
          "height": 293
        },
        "id": "zDpu7yLbiNSM",
        "outputId": "2c9bc452-5405-4a91-b896-5171aea7c14c"
      },
      "execution_count": 9,
      "outputs": [
        {
          "output_type": "display_data",
          "data": {
            "image/png": "[encoded data removed]",
            "text/plain": [
              "<Figure size 432x288 with 1 Axes>"
            ]
          },
          "metadata": {
            "needs_background": "light"
          }
        }
      ]
    },
    {
      "cell_type": "markdown",
      "source": [
        "## 여러 타임 스텝 앞을 예측하기"
      ],
      "metadata": {
        "id": "WX6JZ6pwidl6"
      }
    },
    {
      "cell_type": "code",
      "source": [
        "series = generate_time_series(1, n_steps + 10)\n",
        "X_new, Y_new = series[:, :n_steps], series[:, n_steps:]\n",
        "X = X_new\n",
        "for step_ahead in range(10):\n",
        "    y_pred_one = model.predict(X[:, step_ahead:])[:, np.newaxis, :]\n",
        "    X = np.concatenate([X, y_pred_one], axis=1)\n",
        "\n",
        "Y_pred = X[:, n_steps:]"
      ],
      "metadata": {
        "id": "zQ0W72Z_iOFC"
      },
      "execution_count": 10,
      "outputs": []
    },
    {
      "cell_type": "code",
      "source": [
        "def plot_multiple_forecasts(X, Y, Y_pred):\n",
        "    n_steps = X.shape[1]\n",
        "    ahead = Y.shape[1]\n",
        "    plot_series(X[0, :, 0])\n",
        "    plt.plot(np.arange(n_steps, n_steps + ahead), Y[0, :, 0], \"bo-\", label=\"Actual\")\n",
        "    plt.plot(np.arange(n_steps, n_steps + ahead), Y_pred[0, :, 0], \"rx-\", label=\"Forecast\", markersize=10)\n",
        "    plt.axis([0, n_steps + ahead, -1, 1])\n",
        "    plt.legend(fontsize=14)"
      ],
      "metadata": {
        "id": "_MFecEAGihTS"
      },
      "execution_count": 18,
      "outputs": []
    },
    {
      "cell_type": "code",
      "source": [
        "n_steps = 50\n",
        "series = generate_time_series(10000, n_steps + 10)\n",
        "X_train, Y_train = series[:7000, :n_steps], series[:7000, -10:, 0]\n",
        "X_valid, Y_valid = series[7000:9000, :n_steps], series[7000:9000, -10:, 0]\n",
        "X_test, Y_test = series[9000:, :n_steps], series[9000:, -10:, 0]"
      ],
      "metadata": {
        "id": "huJ-yO7Uii6g"
      },
      "execution_count": 12,
      "outputs": []
    },
    {
      "cell_type": "code",
      "source": [
        "X = X_valid\n",
        "for step_ahead in range(10):\n",
        "    y_pred_one = model.predict(X)[:, np.newaxis, :]\n",
        "    X = np.concatenate([X, y_pred_one], axis=1)\n",
        "\n",
        "Y_pred = X[:, n_steps:, 0]"
      ],
      "metadata": {
        "id": "jU6ZxxDkizyM"
      },
      "execution_count": 13,
      "outputs": []
    },
    {
      "cell_type": "markdown",
      "source": [
        "#### 한 번에 다음 10 타입스텝의 결과 출력하기"
      ],
      "metadata": {
        "id": "NYxXEq5Djy02"
      }
    },
    {
      "cell_type": "code",
      "source": [
        "model = keras.models.Sequential([\n",
        "    keras.layers.SimpleRNN(20, return_sequences=True, input_shape=[None, 1]),\n",
        "    keras.layers.SimpleRNN(20),\n",
        "    keras.layers.Dense(10)\n",
        "])\n",
        "\n",
        "model.compile(loss=\"mse\", optimizer=\"adam\")\n",
        "history = model.fit(X_train, Y_train, epochs=20,\n",
        "                    validation_data=(X_valid, Y_valid))"
      ],
      "metadata": {
        "colab": {
          "base_uri": "https://localhost:8080/"
        },
        "id": "yTQVggX9i28E",
        "outputId": "bf886e83-778f-47cc-96f0-11ffc5d19738"
      },
      "execution_count": 15,
      "outputs": [
        {
          "output_type": "stream",
          "name": "stdout",
          "text": [
            "Epoch 1/20\n",
            "219/219 [==============================] - 6s 21ms/step - loss: 0.0598 - val_loss: 0.0317\n",
            "Epoch 2/20\n",
            "219/219 [==============================] - 4s 20ms/step - loss: 0.0247 - val_loss: 0.0197\n",
            "Epoch 3/20\n",
            "219/219 [==============================] - 4s 20ms/step - loss: 0.0179 - val_loss: 0.0210\n",
            "Epoch 4/20\n",
            "219/219 [==============================] - 4s 20ms/step - loss: 0.0160 - val_loss: 0.0141\n",
            "Epoch 5/20\n",
            "219/219 [==============================] - 4s 20ms/step - loss: 0.0138 - val_loss: 0.0126\n",
            "Epoch 6/20\n",
            "219/219 [==============================] - 4s 20ms/step - loss: 0.0127 - val_loss: 0.0119\n",
            "Epoch 7/20\n",
            "219/219 [==============================] - 4s 20ms/step - loss: 0.0116 - val_loss: 0.0126\n",
            "Epoch 8/20\n",
            "219/219 [==============================] - 4s 20ms/step - loss: 0.0112 - val_loss: 0.0103\n",
            "Epoch 9/20\n",
            "219/219 [==============================] - 4s 20ms/step - loss: 0.0104 - val_loss: 0.0096\n",
            "Epoch 10/20\n",
            "219/219 [==============================] - 4s 19ms/step - loss: 0.0103 - val_loss: 0.0095\n",
            "Epoch 11/20\n",
            "219/219 [==============================] - 4s 20ms/step - loss: 0.0104 - val_loss: 0.0104\n",
            "Epoch 12/20\n",
            "219/219 [==============================] - 4s 20ms/step - loss: 0.0097 - val_loss: 0.0089\n",
            "Epoch 13/20\n",
            "219/219 [==============================] - 4s 20ms/step - loss: 0.0099 - val_loss: 0.0096\n",
            "Epoch 14/20\n",
            "219/219 [==============================] - 4s 19ms/step - loss: 0.0095 - val_loss: 0.0098\n",
            "Epoch 15/20\n",
            "219/219 [==============================] - 4s 19ms/step - loss: 0.0090 - val_loss: 0.0087\n",
            "Epoch 16/20\n",
            "219/219 [==============================] - 5s 21ms/step - loss: 0.0091 - val_loss: 0.0092\n",
            "Epoch 17/20\n",
            "219/219 [==============================] - 4s 19ms/step - loss: 0.0092 - val_loss: 0.0092\n",
            "Epoch 18/20\n",
            "219/219 [==============================] - 4s 20ms/step - loss: 0.0097 - val_loss: 0.0095\n",
            "Epoch 19/20\n",
            "219/219 [==============================] - 4s 20ms/step - loss: 0.0089 - val_loss: 0.0090\n",
            "Epoch 20/20\n",
            "219/219 [==============================] - 4s 20ms/step - loss: 0.0096 - val_loss: 0.0086\n"
          ]
        }
      ]
    },
    {
      "cell_type": "code",
      "source": [
        "series = generate_time_series(1, 50 + 10)\n",
        "X_new, Y_new = series[:, :50, :], series[:, -10:, :]\n",
        "Y_pred = model.predict(X_new)[..., np.newaxis]"
      ],
      "metadata": {
        "id": "XuzaGdIqi4aO"
      },
      "execution_count": 16,
      "outputs": []
    },
    {
      "cell_type": "code",
      "source": [
        "plot_multiple_forecasts(X_new, Y_new, Y_pred)\n",
        "plt.show()"
      ],
      "metadata": {
        "colab": {
          "base_uri": "https://localhost:8080/",
          "height": 293
        },
        "id": "blK_91NQi54-",
        "outputId": "5cd25304-4fe6-451b-e695-824de014996f"
      },
      "execution_count": 17,
      "outputs": [
        {
          "output_type": "display_data",
          "data": {
            "image/png": "[encoded data removed]",
            "text/plain": [
              "<Figure size 432x288 with 1 Axes>"
            ]
          },
          "metadata": {
            "needs_background": "light"
          }
        }
      ]
    },
    {
      "cell_type": "markdown",
      "source": [
        "#### 각 타임스텝마다 다음 10 스텝을 예측하기"
      ],
      "metadata": {
        "id": "48M008POj35w"
      }
    },
    {
      "cell_type": "markdown",
      "source": [
        "##### Sequence-to-Vector 모델을 Sequence-to-Sequence 모델로 바꾸어 예측"
      ],
      "metadata": {
        "id": "qvgTw18fkEEy"
      }
    },
    {
      "cell_type": "code",
      "source": [
        "n_steps = 50\n",
        "series = generate_time_series(10000, n_steps + 10)\n",
        "X_train = series[:7000, :n_steps]\n",
        "X_valid = series[7000:9000, :n_steps]\n",
        "X_test = series[9000:, :n_steps]\n",
        "Y = np.empty((10000, n_steps, 10))\n",
        "for step_ahead in range(1, 10 + 1):\n",
        "    Y[..., step_ahead - 1] = series[..., step_ahead:step_ahead + n_steps, 0]\n",
        "Y_train = Y[:7000]\n",
        "Y_valid = Y[7000:9000]\n",
        "Y_test = Y[9000:]"
      ],
      "metadata": {
        "id": "5_on9Uapj7Oh"
      },
      "execution_count": 19,
      "outputs": []
    },
    {
      "cell_type": "code",
      "source": [
        "model = keras.models.Sequential([\n",
        "    keras.layers.SimpleRNN(20, return_sequences=True, input_shape=[None, 1]),\n",
        "    keras.layers.SimpleRNN(20, return_sequences=True),\n",
        "    keras.layers.TimeDistributed(keras.layers.Dense(10))\n",
        "])\n",
        "\n",
        "def last_time_step_mse(Y_true, Y_pred):\n",
        "    return keras.metrics.mean_squared_error(Y_true[:, -1], Y_pred[:, -1])\n",
        "\n",
        "model.compile(loss=\"mse\", optimizer=keras.optimizers.Adam(learning_rate=0.01), metrics=[last_time_step_mse])\n",
        "history = model.fit(X_train, Y_train, epochs=20,\n",
        "                    validation_data=(X_valid, Y_valid))"
      ],
      "metadata": {
        "colab": {
          "base_uri": "https://localhost:8080/"
        },
        "id": "p-3wiytDj8L8",
        "outputId": "72ce3c65-b309-4b5c-9010-a3e5a3c3e430"
      },
      "execution_count": 20,
      "outputs": [
        {
          "output_type": "stream",
          "name": "stdout",
          "text": [
            "Epoch 1/20\n",
            "219/219 [==============================] - 8s 28ms/step - loss: 0.0463 - last_time_step_mse: 0.0357 - val_loss: 0.0370 - val_last_time_step_mse: 0.0256\n",
            "Epoch 2/20\n",
            "219/219 [==============================] - 6s 26ms/step - loss: 0.0350 - last_time_step_mse: 0.0224 - val_loss: 0.0309 - val_last_time_step_mse: 0.0169\n",
            "Epoch 3/20\n",
            "219/219 [==============================] - 4s 20ms/step - loss: 0.0302 - last_time_step_mse: 0.0169 - val_loss: 0.0285 - val_last_time_step_mse: 0.0155\n",
            "Epoch 4/20\n",
            "219/219 [==============================] - 4s 20ms/step - loss: 0.0270 - last_time_step_mse: 0.0142 - val_loss: 0.0271 - val_last_time_step_mse: 0.0143\n",
            "Epoch 5/20\n",
            "219/219 [==============================] - 4s 20ms/step - loss: 0.0247 - last_time_step_mse: 0.0121 - val_loss: 0.0220 - val_last_time_step_mse: 0.0097\n",
            "Epoch 6/20\n",
            "219/219 [==============================] - 5s 22ms/step - loss: 0.0228 - last_time_step_mse: 0.0101 - val_loss: 0.0218 - val_last_time_step_mse: 0.0093\n",
            "Epoch 7/20\n",
            "219/219 [==============================] - 4s 20ms/step - loss: 0.0224 - last_time_step_mse: 0.0096 - val_loss: 0.0223 - val_last_time_step_mse: 0.0089\n",
            "Epoch 8/20\n",
            "219/219 [==============================] - 4s 20ms/step - loss: 0.0220 - last_time_step_mse: 0.0094 - val_loss: 0.0217 - val_last_time_step_mse: 0.0090\n",
            "Epoch 9/20\n",
            "219/219 [==============================] - 4s 20ms/step - loss: 0.0215 - last_time_step_mse: 0.0089 - val_loss: 0.0220 - val_last_time_step_mse: 0.0100\n",
            "Epoch 10/20\n",
            "219/219 [==============================] - 4s 20ms/step - loss: 0.0208 - last_time_step_mse: 0.0083 - val_loss: 0.0195 - val_last_time_step_mse: 0.0066\n",
            "Epoch 11/20\n",
            "219/219 [==============================] - 4s 20ms/step - loss: 0.0204 - last_time_step_mse: 0.0080 - val_loss: 0.0197 - val_last_time_step_mse: 0.0068\n",
            "Epoch 12/20\n",
            "219/219 [==============================] - 4s 20ms/step - loss: 0.0203 - last_time_step_mse: 0.0081 - val_loss: 0.0192 - val_last_time_step_mse: 0.0071\n",
            "Epoch 13/20\n",
            "219/219 [==============================] - 4s 20ms/step - loss: 0.0197 - last_time_step_mse: 0.0075 - val_loss: 0.0186 - val_last_time_step_mse: 0.0064\n",
            "Epoch 14/20\n",
            "219/219 [==============================] - 4s 20ms/step - loss: 0.0194 - last_time_step_mse: 0.0074 - val_loss: 0.0187 - val_last_time_step_mse: 0.0069\n",
            "Epoch 15/20\n",
            "219/219 [==============================] - 4s 20ms/step - loss: 0.0193 - last_time_step_mse: 0.0074 - val_loss: 0.0201 - val_last_time_step_mse: 0.0092\n",
            "Epoch 16/20\n",
            "219/219 [==============================] - 4s 20ms/step - loss: 0.0192 - last_time_step_mse: 0.0073 - val_loss: 0.0200 - val_last_time_step_mse: 0.0072\n",
            "Epoch 17/20\n",
            "219/219 [==============================] - 5s 20ms/step - loss: 0.0192 - last_time_step_mse: 0.0074 - val_loss: 0.0176 - val_last_time_step_mse: 0.0060\n",
            "Epoch 18/20\n",
            "219/219 [==============================] - 4s 20ms/step - loss: 0.0189 - last_time_step_mse: 0.0071 - val_loss: 0.0180 - val_last_time_step_mse: 0.0058\n",
            "Epoch 19/20\n",
            "219/219 [==============================] - 4s 20ms/step - loss: 0.0187 - last_time_step_mse: 0.0070 - val_loss: 0.0182 - val_last_time_step_mse: 0.0070\n",
            "Epoch 20/20\n",
            "219/219 [==============================] - 4s 20ms/step - loss: 0.0189 - last_time_step_mse: 0.0073 - val_loss: 0.0178 - val_last_time_step_mse: 0.0066\n"
          ]
        }
      ]
    },
    {
      "cell_type": "code",
      "source": [
        "series = generate_time_series(1, 50 + 10)\n",
        "X_new, Y_new = series[:, :50, :], series[:, 50:, :]\n",
        "Y_pred = model.predict(X_new)[:, -1][..., np.newaxis]"
      ],
      "metadata": {
        "id": "S8K5cYDkj9NW"
      },
      "execution_count": 21,
      "outputs": []
    },
    {
      "cell_type": "code",
      "source": [
        "plot_multiple_forecasts(X_new, Y_new, Y_pred)\n",
        "plt.show()"
      ],
      "metadata": {
        "colab": {
          "base_uri": "https://localhost:8080/",
          "height": 293
        },
        "id": "YSS1EYIlj-uS",
        "outputId": "073cf7ce-a9da-44ab-bc89-748aba98dfa5"
      },
      "execution_count": 22,
      "outputs": [
        {
          "output_type": "display_data",
          "data": {
            "image/png": "[encoded data removed]",
            "text/plain": [
              "<Figure size 432x288 with 1 Axes>"
            ]
          },
          "metadata": {
            "needs_background": "light"
          }
        }
      ]
    }
  ]
}