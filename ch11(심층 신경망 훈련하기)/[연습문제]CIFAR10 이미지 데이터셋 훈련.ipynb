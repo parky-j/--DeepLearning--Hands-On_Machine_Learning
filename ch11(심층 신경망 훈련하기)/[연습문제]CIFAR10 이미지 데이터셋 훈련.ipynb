{
  "nbformat": 4,
  "nbformat_minor": 0,
  "metadata": {
    "colab": {
      "name": "[연습문제]CIFAR10 이미지 데이터셋 훈련.ipynb",
      "provenance": []
    },
    "kernelspec": {
      "name": "python3",
      "display_name": "Python 3"
    },
    "language_info": {
      "name": "python"
    },
    "accelerator": "GPU"
  },
  "cells": [
    {
      "cell_type": "code",
      "execution_count": 1,
      "metadata": {
        "id": "JSb321KflRjQ"
      },
      "outputs": [],
      "source": [
        "# 파이썬 ≥3.5 필수\n",
        "import sys\n",
        "assert sys.version_info >= (3, 5)\n",
        "\n",
        "# 사이킷런 ≥0.20 필수\n",
        "import sklearn\n",
        "assert sklearn.__version__ >= \"0.20\"\n",
        "\n",
        "# 텐서플로 ≥2.0 필수\n",
        "import tensorflow as tf\n",
        "from tensorflow import keras\n",
        "assert tf.__version__ >= \"2.0\"\n",
        "\n",
        "%load_ext tensorboard\n",
        "\n",
        "# 공통 모듈 임포트\n",
        "import numpy as np\n",
        "import os\n",
        "\n",
        "# 노트북 실행 결과를 동일하게 유지하기 위해\n",
        "np.random.seed(42)\n",
        "\n",
        "# 깔끔한 그래프 출력을 위해\n",
        "%matplotlib inline\n",
        "import matplotlib as mpl\n",
        "import matplotlib.pyplot as plt\n",
        "mpl.rc('axes', labelsize=14)\n",
        "mpl.rc('xtick', labelsize=12)\n",
        "mpl.rc('ytick', labelsize=12)\n",
        "\n",
        "# 그림을 저장할 위치\n",
        "PROJECT_ROOT_DIR = \".\"\n",
        "CHAPTER_ID = \"deep\"\n",
        "IMAGES_PATH = os.path.join(PROJECT_ROOT_DIR, \"images\", CHAPTER_ID)\n",
        "os.makedirs(IMAGES_PATH, exist_ok=True)\n",
        "\n",
        "def save_fig(fig_id, tight_layout=True, fig_extension=\"png\", resolution=300):\n",
        "    path = os.path.join(IMAGES_PATH, fig_id + \".\" + fig_extension)\n",
        "    print(\"그림 저장:\", fig_id)\n",
        "    if tight_layout:\n",
        "        plt.tight_layout()\n",
        "    plt.savefig(path, format=fig_extension, dpi=resolution)"
      ]
    },
    {
      "cell_type": "code",
      "source": [
        "(X_train_full, y_train_full), (X_test, y_test) = keras.datasets.cifar10.load_data()\n",
        "\n",
        "X_train = X_train_full[5000:]\n",
        "y_train = y_train_full[5000:]\n",
        "X_valid = X_train_full[:5000]\n",
        "y_valid = y_train_full[:5000]"
      ],
      "metadata": {
        "id": "pxeaoJhwlnpT"
      },
      "execution_count": 23,
      "outputs": []
    },
    {
      "cell_type": "code",
      "source": [
        "X_train[0].shape"
      ],
      "metadata": {
        "colab": {
          "base_uri": "https://localhost:8080/"
        },
        "id": "Xelw03HJqzP_",
        "outputId": "cb9cae22-7298-42fd-f1bf-8c460ea3ec1c"
      },
      "execution_count": 24,
      "outputs": [
        {
          "output_type": "execute_result",
          "data": {
            "text/plain": [
              "(32, 32, 3)"
            ]
          },
          "metadata": {},
          "execution_count": 24
        }
      ]
    },
    {
      "cell_type": "code",
      "source": [
        "keras.backend.clear_session()\n",
        "\n",
        "model = keras.models.Sequential()\n",
        "model.add(keras.layers.Flatten(input_shape=[32, 32, 3]))\n",
        "for _ in range(20):\n",
        "    model.add(keras.layers.Dense(100,\n",
        "                                 activation=\"elu\",\n",
        "                                 kernel_initializer=\"he_normal\"))\n",
        "model.add(keras.layers.Dense(10, activation=\"softmax\"))"
      ],
      "metadata": {
        "id": "iRK23Bw-qinN"
      },
      "execution_count": 25,
      "outputs": []
    },
    {
      "cell_type": "code",
      "source": [
        "early_stopping_cb = keras.callbacks.EarlyStopping(patience=20)\n",
        "model_checkpoint_cb = keras.callbacks.ModelCheckpoint(\"my_cifar10_model.h5\", save_best_only=True)\n",
        "\n",
        "callbacks = [early_stopping_cb, model_checkpoint_cb]"
      ],
      "metadata": {
        "id": "ntMQ_rJYKriH"
      },
      "execution_count": 27,
      "outputs": []
    },
    {
      "cell_type": "code",
      "source": [
        "optimizer = keras.optimizers.Nadam(learning_rate=5e-5)\n",
        "\n",
        "model.compile(loss = \"sparse_categorical_crossentropy\",\n",
        "              optimizer = optimizer,\n",
        "              metrics = [\"accuracy\"])"
      ],
      "metadata": {
        "id": "CufZdvWtEjAa"
      },
      "execution_count": 26,
      "outputs": []
    },
    {
      "cell_type": "code",
      "source": [
        "model.fit(X_train, y_train, epochs=100,\n",
        "          validation_data=(X_valid, y_valid),\n",
        "          callbacks=callbacks)"
      ],
      "metadata": {
        "colab": {
          "base_uri": "https://localhost:8080/"
        },
        "id": "_KN52wiRHvey",
        "outputId": "74f6785c-a99a-47a3-8fef-35f5e86223dc"
      },
      "execution_count": 28,
      "outputs": [
        {
          "output_type": "stream",
          "name": "stdout",
          "text": [
            "Epoch 1/100\n",
            "1407/1407 [==============================] - 25s 15ms/step - loss: 4.5394 - accuracy: 0.1656 - val_loss: 2.1997 - val_accuracy: 0.2198\n",
            "Epoch 2/100\n",
            "1407/1407 [==============================] - 21s 15ms/step - loss: 2.0819 - accuracy: 0.2430 - val_loss: 2.0238 - val_accuracy: 0.2654\n",
            "Epoch 3/100\n",
            "1407/1407 [==============================] - 21s 15ms/step - loss: 1.9510 - accuracy: 0.2880 - val_loss: 1.9242 - val_accuracy: 0.2932\n",
            "Epoch 4/100\n",
            "1407/1407 [==============================] - 22s 16ms/step - loss: 1.8637 - accuracy: 0.3240 - val_loss: 1.8202 - val_accuracy: 0.3352\n",
            "Epoch 5/100\n",
            "1407/1407 [==============================] - 21s 15ms/step - loss: 1.7945 - accuracy: 0.3503 - val_loss: 1.7645 - val_accuracy: 0.3620\n",
            "Epoch 6/100\n",
            "1407/1407 [==============================] - 21s 15ms/step - loss: 1.7378 - accuracy: 0.3736 - val_loss: 1.7244 - val_accuracy: 0.3680\n",
            "Epoch 7/100\n",
            "1407/1407 [==============================] - 21s 15ms/step - loss: 1.6938 - accuracy: 0.3901 - val_loss: 1.6809 - val_accuracy: 0.3966\n",
            "Epoch 8/100\n",
            "1407/1407 [==============================] - 21s 15ms/step - loss: 1.6591 - accuracy: 0.4043 - val_loss: 1.6652 - val_accuracy: 0.3986\n",
            "Epoch 9/100\n",
            "1407/1407 [==============================] - 21s 15ms/step - loss: 1.6256 - accuracy: 0.4140 - val_loss: 1.6824 - val_accuracy: 0.3922\n",
            "Epoch 10/100\n",
            "1407/1407 [==============================] - 21s 15ms/step - loss: 1.6017 - accuracy: 0.4243 - val_loss: 1.6137 - val_accuracy: 0.4136\n",
            "Epoch 11/100\n",
            "1407/1407 [==============================] - 21s 15ms/step - loss: 1.5731 - accuracy: 0.4349 - val_loss: 1.6121 - val_accuracy: 0.4202\n",
            "Epoch 12/100\n",
            "1407/1407 [==============================] - 21s 15ms/step - loss: 1.5539 - accuracy: 0.4430 - val_loss: 1.6611 - val_accuracy: 0.4098\n",
            "Epoch 13/100\n",
            "1407/1407 [==============================] - 21s 15ms/step - loss: 1.5333 - accuracy: 0.4498 - val_loss: 1.5913 - val_accuracy: 0.4292\n",
            "Epoch 14/100\n",
            "1407/1407 [==============================] - 21s 15ms/step - loss: 1.5202 - accuracy: 0.4536 - val_loss: 1.5603 - val_accuracy: 0.4378\n",
            "Epoch 15/100\n",
            "1407/1407 [==============================] - 21s 15ms/step - loss: 1.5019 - accuracy: 0.4611 - val_loss: 1.5689 - val_accuracy: 0.4398\n",
            "Epoch 16/100\n",
            "1407/1407 [==============================] - 21s 15ms/step - loss: 1.4879 - accuracy: 0.4655 - val_loss: 1.5850 - val_accuracy: 0.4342\n",
            "Epoch 17/100\n",
            "1407/1407 [==============================] - 21s 15ms/step - loss: 1.4703 - accuracy: 0.4729 - val_loss: 1.5669 - val_accuracy: 0.4420\n",
            "Epoch 18/100\n",
            "1407/1407 [==============================] - 21s 15ms/step - loss: 1.4591 - accuracy: 0.4762 - val_loss: 1.6034 - val_accuracy: 0.4288\n",
            "Epoch 19/100\n",
            "1407/1407 [==============================] - 21s 15ms/step - loss: 1.4477 - accuracy: 0.4826 - val_loss: 1.5625 - val_accuracy: 0.4338\n",
            "Epoch 20/100\n",
            "1407/1407 [==============================] - 21s 15ms/step - loss: 1.4333 - accuracy: 0.4847 - val_loss: 1.5776 - val_accuracy: 0.4532\n",
            "Epoch 21/100\n",
            "1407/1407 [==============================] - 21s 15ms/step - loss: 1.4214 - accuracy: 0.4895 - val_loss: 1.5420 - val_accuracy: 0.4482\n",
            "Epoch 22/100\n",
            "1407/1407 [==============================] - 21s 15ms/step - loss: 1.4103 - accuracy: 0.4939 - val_loss: 1.5265 - val_accuracy: 0.4586\n",
            "Epoch 23/100\n",
            "1407/1407 [==============================] - 21s 15ms/step - loss: 1.3988 - accuracy: 0.4979 - val_loss: 1.5538 - val_accuracy: 0.4526\n",
            "Epoch 24/100\n",
            "1407/1407 [==============================] - 21s 15ms/step - loss: 1.3891 - accuracy: 0.5037 - val_loss: 1.5429 - val_accuracy: 0.4494\n",
            "Epoch 25/100\n",
            "1407/1407 [==============================] - 21s 15ms/step - loss: 1.3776 - accuracy: 0.5040 - val_loss: 1.5471 - val_accuracy: 0.4554\n",
            "Epoch 26/100\n",
            "1407/1407 [==============================] - 21s 15ms/step - loss: 1.3683 - accuracy: 0.5073 - val_loss: 1.5414 - val_accuracy: 0.4612\n",
            "Epoch 27/100\n",
            "1407/1407 [==============================] - 21s 15ms/step - loss: 1.3571 - accuracy: 0.5114 - val_loss: 1.5258 - val_accuracy: 0.4686\n",
            "Epoch 28/100\n",
            "1407/1407 [==============================] - 21s 15ms/step - loss: 1.3458 - accuracy: 0.5174 - val_loss: 1.5285 - val_accuracy: 0.4588\n",
            "Epoch 29/100\n",
            "1407/1407 [==============================] - 21s 15ms/step - loss: 1.3407 - accuracy: 0.5192 - val_loss: 1.4993 - val_accuracy: 0.4734\n",
            "Epoch 30/100\n",
            "1407/1407 [==============================] - 21s 15ms/step - loss: 1.3283 - accuracy: 0.5244 - val_loss: 1.5326 - val_accuracy: 0.4606\n",
            "Epoch 31/100\n",
            "1407/1407 [==============================] - 21s 15ms/step - loss: 1.3210 - accuracy: 0.5262 - val_loss: 1.5041 - val_accuracy: 0.4694\n",
            "Epoch 32/100\n",
            "1407/1407 [==============================] - 21s 15ms/step - loss: 1.3082 - accuracy: 0.5294 - val_loss: 1.5125 - val_accuracy: 0.4666\n",
            "Epoch 33/100\n",
            "1407/1407 [==============================] - 21s 15ms/step - loss: 1.3062 - accuracy: 0.5303 - val_loss: 1.5060 - val_accuracy: 0.4638\n",
            "Epoch 34/100\n",
            "1407/1407 [==============================] - 21s 15ms/step - loss: 1.2956 - accuracy: 0.5336 - val_loss: 1.5274 - val_accuracy: 0.4610\n",
            "Epoch 35/100\n",
            "1407/1407 [==============================] - 21s 15ms/step - loss: 1.2860 - accuracy: 0.5372 - val_loss: 1.5216 - val_accuracy: 0.4694\n",
            "Epoch 36/100\n",
            "1407/1407 [==============================] - 21s 15ms/step - loss: 1.2791 - accuracy: 0.5400 - val_loss: 1.4944 - val_accuracy: 0.4682\n",
            "Epoch 37/100\n",
            "1407/1407 [==============================] - 21s 15ms/step - loss: 1.2710 - accuracy: 0.5442 - val_loss: 1.5256 - val_accuracy: 0.4716\n",
            "Epoch 38/100\n",
            "1407/1407 [==============================] - 21s 15ms/step - loss: 1.2598 - accuracy: 0.5472 - val_loss: 1.5148 - val_accuracy: 0.4804\n",
            "Epoch 39/100\n",
            "1407/1407 [==============================] - 21s 15ms/step - loss: 1.2540 - accuracy: 0.5468 - val_loss: 1.4930 - val_accuracy: 0.4756\n",
            "Epoch 40/100\n",
            "1407/1407 [==============================] - 21s 15ms/step - loss: 1.2474 - accuracy: 0.5540 - val_loss: 1.5433 - val_accuracy: 0.4594\n",
            "Epoch 41/100\n",
            "1407/1407 [==============================] - 21s 15ms/step - loss: 1.2391 - accuracy: 0.5564 - val_loss: 1.5402 - val_accuracy: 0.4638\n",
            "Epoch 42/100\n",
            "1407/1407 [==============================] - 21s 15ms/step - loss: 1.2311 - accuracy: 0.5586 - val_loss: 1.4954 - val_accuracy: 0.4794\n",
            "Epoch 43/100\n",
            "1407/1407 [==============================] - 21s 15ms/step - loss: 1.2258 - accuracy: 0.5583 - val_loss: 1.4826 - val_accuracy: 0.4890\n",
            "Epoch 44/100\n",
            "1407/1407 [==============================] - 21s 15ms/step - loss: 1.2181 - accuracy: 0.5625 - val_loss: 1.5193 - val_accuracy: 0.4780\n",
            "Epoch 45/100\n",
            "1407/1407 [==============================] - 21s 15ms/step - loss: 1.2067 - accuracy: 0.5655 - val_loss: 1.5244 - val_accuracy: 0.4732\n",
            "Epoch 46/100\n",
            "1407/1407 [==============================] - 21s 15ms/step - loss: 1.2032 - accuracy: 0.5658 - val_loss: 1.5258 - val_accuracy: 0.4794\n",
            "Epoch 47/100\n",
            "1407/1407 [==============================] - 21s 15ms/step - loss: 1.1929 - accuracy: 0.5699 - val_loss: 1.5239 - val_accuracy: 0.4742\n",
            "Epoch 48/100\n",
            "1407/1407 [==============================] - 21s 15ms/step - loss: 1.1886 - accuracy: 0.5727 - val_loss: 1.5277 - val_accuracy: 0.4810\n",
            "Epoch 49/100\n",
            "1407/1407 [==============================] - 21s 15ms/step - loss: 1.1824 - accuracy: 0.5759 - val_loss: 1.5322 - val_accuracy: 0.4770\n",
            "Epoch 50/100\n",
            "1407/1407 [==============================] - 21s 15ms/step - loss: 1.1723 - accuracy: 0.5787 - val_loss: 1.6149 - val_accuracy: 0.4550\n",
            "Epoch 51/100\n",
            "1407/1407 [==============================] - 21s 15ms/step - loss: 1.1708 - accuracy: 0.5784 - val_loss: 1.5288 - val_accuracy: 0.4708\n",
            "Epoch 52/100\n",
            "1407/1407 [==============================] - 21s 15ms/step - loss: 1.1629 - accuracy: 0.5787 - val_loss: 1.5324 - val_accuracy: 0.4832\n",
            "Epoch 53/100\n",
            "1407/1407 [==============================] - 21s 15ms/step - loss: 1.1515 - accuracy: 0.5851 - val_loss: 1.5272 - val_accuracy: 0.4760\n",
            "Epoch 54/100\n",
            "1407/1407 [==============================] - 21s 15ms/step - loss: 1.1478 - accuracy: 0.5884 - val_loss: 1.5390 - val_accuracy: 0.4738\n",
            "Epoch 55/100\n",
            "1407/1407 [==============================] - 21s 15ms/step - loss: 1.1396 - accuracy: 0.5908 - val_loss: 1.5327 - val_accuracy: 0.4802\n",
            "Epoch 56/100\n",
            "1407/1407 [==============================] - 21s 15ms/step - loss: 1.1315 - accuracy: 0.5934 - val_loss: 1.5509 - val_accuracy: 0.4834\n",
            "Epoch 57/100\n",
            "1407/1407 [==============================] - 21s 15ms/step - loss: 1.1230 - accuracy: 0.5974 - val_loss: 1.5582 - val_accuracy: 0.4820\n",
            "Epoch 58/100\n",
            "1407/1407 [==============================] - 21s 15ms/step - loss: 1.1199 - accuracy: 0.5979 - val_loss: 1.5446 - val_accuracy: 0.4812\n",
            "Epoch 59/100\n",
            "1407/1407 [==============================] - 21s 15ms/step - loss: 1.1080 - accuracy: 0.6030 - val_loss: 1.5615 - val_accuracy: 0.4790\n",
            "Epoch 60/100\n",
            "1407/1407 [==============================] - 21s 15ms/step - loss: 1.1059 - accuracy: 0.6029 - val_loss: 1.5660 - val_accuracy: 0.4834\n",
            "Epoch 61/100\n",
            "1407/1407 [==============================] - 21s 15ms/step - loss: 1.1002 - accuracy: 0.6042 - val_loss: 1.5623 - val_accuracy: 0.4808\n",
            "Epoch 62/100\n",
            "1407/1407 [==============================] - 21s 15ms/step - loss: 1.0957 - accuracy: 0.6049 - val_loss: 1.5489 - val_accuracy: 0.4854\n",
            "Epoch 63/100\n",
            "1407/1407 [==============================] - 21s 15ms/step - loss: 1.0895 - accuracy: 0.6073 - val_loss: 1.5708 - val_accuracy: 0.4790\n"
          ]
        },
        {
          "output_type": "execute_result",
          "data": {
            "text/plain": [
              "<keras.callbacks.History at 0x7fdf35570590>"
            ]
          },
          "metadata": {},
          "execution_count": 28
        }
      ]
    },
    {
      "cell_type": "markdown",
      "source": [
        "## 이전의 모델에서 배치정규화를 추가시켜 정확도 비교"
      ],
      "metadata": {
        "id": "tAdFlx28btcp"
      }
    },
    {
      "cell_type": "code",
      "source": [
        "model = keras.models.Sequential()\n",
        "model.add(keras.layers.Flatten(input_shape=[32, 32, 3]))\n",
        "model.add(keras.layers.BatchNormalization())\n",
        "for _ in range(20):\n",
        "    model.add(keras.layers.Dense(100,\n",
        "                                 activation=\"elu\",\n",
        "                                 kernel_initializer=\"he_normal\"))\n",
        "    model.add(keras.layers.BatchNormalization())\n",
        "model.add(keras.layers.Dense(10, activation=\"softmax\"))"
      ],
      "metadata": {
        "id": "J9Ep0i7BH4xX"
      },
      "execution_count": 29,
      "outputs": []
    },
    {
      "cell_type": "code",
      "source": [
        "model.compile(loss=\"sparse_categorical_crossentropy\",\n",
        "              optimizer=keras.optimizers.Nadam(learning_rate=5e-4, beta_1=0.9, beta_2=0.999),\n",
        "              metrics=[\"accuracy\"])"
      ],
      "metadata": {
        "id": "OIB6aiwCIwIB"
      },
      "execution_count": 30,
      "outputs": []
    },
    {
      "cell_type": "code",
      "source": [
        "early_stopping_cb = keras.callbacks.EarlyStopping(patience=20)\n",
        "model_checkpoint_cb = keras.callbacks.ModelCheckpoint(\"my_cifar10_bn_model.h5\", save_best_only=True)\n",
        "callbacks = [early_stopping_cb, model_checkpoint_cb]"
      ],
      "metadata": {
        "id": "LxNUlDWoQftJ"
      },
      "execution_count": 32,
      "outputs": []
    },
    {
      "cell_type": "code",
      "source": [
        "model.fit(X_train, y_train, epochs=100,\n",
        "          validation_data=(X_valid, y_valid),\n",
        "          callbacks=callbacks)"
      ],
      "metadata": {
        "colab": {
          "base_uri": "https://localhost:8080/"
        },
        "id": "CpG7gawNI6i5",
        "outputId": "254f0109-0e42-48ef-f0af-0bca0e454c41"
      },
      "execution_count": 33,
      "outputs": [
        {
          "output_type": "stream",
          "name": "stdout",
          "text": [
            "Epoch 1/100\n",
            "1407/1407 [==============================] - 52s 37ms/step - loss: 1.6834 - accuracy: 0.4020 - val_loss: 1.6104 - val_accuracy: 0.4258\n",
            "Epoch 2/100\n",
            "1407/1407 [==============================] - 52s 37ms/step - loss: 1.6170 - accuracy: 0.4279 - val_loss: 1.5546 - val_accuracy: 0.4506\n",
            "Epoch 3/100\n",
            "1407/1407 [==============================] - 53s 38ms/step - loss: 1.5683 - accuracy: 0.4436 - val_loss: 1.4899 - val_accuracy: 0.4700\n",
            "Epoch 4/100\n",
            "1407/1407 [==============================] - 53s 38ms/step - loss: 1.5206 - accuracy: 0.4594 - val_loss: 1.4425 - val_accuracy: 0.4872\n",
            "Epoch 5/100\n",
            "1407/1407 [==============================] - 53s 38ms/step - loss: 1.4845 - accuracy: 0.4750 - val_loss: 1.4462 - val_accuracy: 0.4884\n",
            "Epoch 6/100\n",
            "1407/1407 [==============================] - 52s 37ms/step - loss: 1.4554 - accuracy: 0.4842 - val_loss: 1.4077 - val_accuracy: 0.5034\n",
            "Epoch 7/100\n",
            "1407/1407 [==============================] - 53s 38ms/step - loss: 1.4224 - accuracy: 0.4965 - val_loss: 1.4318 - val_accuracy: 0.4932\n",
            "Epoch 8/100\n",
            "1407/1407 [==============================] - 53s 38ms/step - loss: 1.3936 - accuracy: 0.5069 - val_loss: 1.3960 - val_accuracy: 0.5042\n",
            "Epoch 9/100\n",
            "1407/1407 [==============================] - 53s 38ms/step - loss: 1.3691 - accuracy: 0.5160 - val_loss: 1.3812 - val_accuracy: 0.5130\n",
            "Epoch 10/100\n",
            "1407/1407 [==============================] - 53s 38ms/step - loss: 1.3459 - accuracy: 0.5259 - val_loss: 1.4177 - val_accuracy: 0.5110\n",
            "Epoch 11/100\n",
            "1407/1407 [==============================] - 54s 38ms/step - loss: 1.3274 - accuracy: 0.5324 - val_loss: 1.3795 - val_accuracy: 0.5212\n",
            "Epoch 12/100\n",
            "1407/1407 [==============================] - 54s 38ms/step - loss: 1.3058 - accuracy: 0.5391 - val_loss: 1.3783 - val_accuracy: 0.5144\n",
            "Epoch 13/100\n",
            "1407/1407 [==============================] - 54s 38ms/step - loss: 1.2871 - accuracy: 0.5469 - val_loss: 1.3303 - val_accuracy: 0.5314\n",
            "Epoch 14/100\n",
            "1407/1407 [==============================] - 52s 37ms/step - loss: 1.2660 - accuracy: 0.5543 - val_loss: 1.3661 - val_accuracy: 0.5214\n",
            "Epoch 15/100\n",
            "1407/1407 [==============================] - 52s 37ms/step - loss: 1.2497 - accuracy: 0.5615 - val_loss: 1.3545 - val_accuracy: 0.5276\n",
            "Epoch 16/100\n",
            "1407/1407 [==============================] - 54s 38ms/step - loss: 1.2362 - accuracy: 0.5638 - val_loss: 1.3409 - val_accuracy: 0.5300\n",
            "Epoch 17/100\n",
            "1407/1407 [==============================] - 53s 38ms/step - loss: 1.2217 - accuracy: 0.5686 - val_loss: 1.3610 - val_accuracy: 0.5220\n",
            "Epoch 18/100\n",
            "1407/1407 [==============================] - 52s 37ms/step - loss: 1.1998 - accuracy: 0.5779 - val_loss: 1.3154 - val_accuracy: 0.5442\n",
            "Epoch 19/100\n",
            "1407/1407 [==============================] - 53s 37ms/step - loss: 1.1839 - accuracy: 0.5887 - val_loss: 1.3414 - val_accuracy: 0.5396\n",
            "Epoch 20/100\n",
            "1407/1407 [==============================] - 53s 38ms/step - loss: 1.1781 - accuracy: 0.5875 - val_loss: 1.3425 - val_accuracy: 0.5324\n",
            "Epoch 21/100\n",
            "1407/1407 [==============================] - 52s 37ms/step - loss: 1.1627 - accuracy: 0.5918 - val_loss: 1.3387 - val_accuracy: 0.5382\n",
            "Epoch 22/100\n",
            "1407/1407 [==============================] - 53s 38ms/step - loss: 1.1515 - accuracy: 0.5952 - val_loss: 1.3678 - val_accuracy: 0.5312\n",
            "Epoch 23/100\n",
            "1407/1407 [==============================] - 52s 37ms/step - loss: 1.1372 - accuracy: 0.6002 - val_loss: 1.3461 - val_accuracy: 0.5364\n",
            "Epoch 24/100\n",
            "1407/1407 [==============================] - 53s 38ms/step - loss: 1.1211 - accuracy: 0.6075 - val_loss: 1.3677 - val_accuracy: 0.5348\n",
            "Epoch 25/100\n",
            "1407/1407 [==============================] - 53s 38ms/step - loss: 1.1105 - accuracy: 0.6120 - val_loss: 1.3477 - val_accuracy: 0.5296\n",
            "Epoch 26/100\n",
            "1407/1407 [==============================] - 53s 38ms/step - loss: 1.1073 - accuracy: 0.6102 - val_loss: 1.3454 - val_accuracy: 0.5396\n",
            "Epoch 27/100\n",
            "1407/1407 [==============================] - 51s 36ms/step - loss: 1.0930 - accuracy: 0.6197 - val_loss: 1.3642 - val_accuracy: 0.5316\n",
            "Epoch 28/100\n",
            "1407/1407 [==============================] - 53s 38ms/step - loss: 1.0855 - accuracy: 0.6185 - val_loss: 1.3491 - val_accuracy: 0.5342\n",
            "Epoch 29/100\n",
            "1407/1407 [==============================] - 52s 37ms/step - loss: 1.0749 - accuracy: 0.6227 - val_loss: 1.3816 - val_accuracy: 0.5370\n",
            "Epoch 30/100\n",
            "1407/1407 [==============================] - 53s 37ms/step - loss: 1.0601 - accuracy: 0.6283 - val_loss: 1.3587 - val_accuracy: 0.5384\n",
            "Epoch 31/100\n",
            "1407/1407 [==============================] - 52s 37ms/step - loss: 1.0487 - accuracy: 0.6329 - val_loss: 1.3668 - val_accuracy: 0.5336\n",
            "Epoch 32/100\n",
            "1407/1407 [==============================] - 52s 37ms/step - loss: 1.0347 - accuracy: 0.6380 - val_loss: 1.3678 - val_accuracy: 0.5406\n",
            "Epoch 33/100\n",
            "1407/1407 [==============================] - 52s 37ms/step - loss: 1.0314 - accuracy: 0.6392 - val_loss: 1.3785 - val_accuracy: 0.5468\n",
            "Epoch 34/100\n",
            "1407/1407 [==============================] - 53s 38ms/step - loss: 1.0194 - accuracy: 0.6423 - val_loss: 1.3778 - val_accuracy: 0.5282\n",
            "Epoch 35/100\n",
            "1407/1407 [==============================] - 52s 37ms/step - loss: 1.0110 - accuracy: 0.6458 - val_loss: 1.3715 - val_accuracy: 0.5376\n",
            "Epoch 36/100\n",
            "1407/1407 [==============================] - 52s 37ms/step - loss: 1.0061 - accuracy: 0.6488 - val_loss: 1.3675 - val_accuracy: 0.5382\n",
            "Epoch 37/100\n",
            "1407/1407 [==============================] - 53s 37ms/step - loss: 0.9999 - accuracy: 0.6502 - val_loss: 1.3569 - val_accuracy: 0.5392\n",
            "Epoch 38/100\n",
            "1407/1407 [==============================] - 52s 37ms/step - loss: 0.9903 - accuracy: 0.6513 - val_loss: 1.3606 - val_accuracy: 0.5524\n"
          ]
        },
        {
          "output_type": "execute_result",
          "data": {
            "text/plain": [
              "<keras.callbacks.History at 0x7fdf3da75450>"
            ]
          },
          "metadata": {},
          "execution_count": 33
        }
      ]
    },
    {
      "cell_type": "markdown",
      "source": [
        "#### 배치정규화를 추가하여 학습을 진행하니 최종 val_accuracy가 0.4790에서 0.5524로 증가하였다.\n",
        "\n",
        "#### 단, 배치정규화를 사용하니 학습에 필요한 시간이 증가하였다."
      ],
      "metadata": {
        "id": "M1U8yR-1by0s"
      }
    },
    {
      "cell_type": "markdown",
      "source": [
        "## 배치정규화를 사용하지 않고 selu로 다시 학습"
      ],
      "metadata": {
        "id": "UbWuJw6QcHzC"
      }
    },
    {
      "cell_type": "code",
      "source": [
        "keras.backend.clear_session()\n",
        "\n",
        "model = keras.models.Sequential()\n",
        "model.add(keras.layers.Flatten(input_shape=[32, 32, 3]))\n",
        "for _ in range(20):\n",
        "    model.add(keras.layers.Dense(100,\n",
        "                                 kernel_initializer=\"lecun_normal\",\n",
        "                                 activation=\"selu\"))\n",
        "model.add(keras.layers.Dense(10, activation=\"softmax\"))"
      ],
      "metadata": {
        "id": "d6rKpttJI_q9"
      },
      "execution_count": 38,
      "outputs": []
    },
    {
      "cell_type": "code",
      "source": [
        "optimizer = keras.optimizers.Nadam(learning_rate=7e-4)\n",
        "model.compile(loss=\"sparse_categorical_crossentropy\",\n",
        "              optimizer=optimizer,\n",
        "              metrics=[\"accuracy\"])"
      ],
      "metadata": {
        "id": "_DMqck5pcOU1"
      },
      "execution_count": 39,
      "outputs": []
    },
    {
      "cell_type": "code",
      "source": [
        "early_stopping_cb = keras.callbacks.EarlyStopping(patience=20)\n",
        "model_checkpoint_cb = keras.callbacks.ModelCheckpoint(\"my_cifar10_selu_model.h5\", save_best_only=True)\n",
        "\n",
        "callbacks = [early_stopping_cb, model_checkpoint_cb]"
      ],
      "metadata": {
        "id": "QmOi_rficSkn"
      },
      "execution_count": 40,
      "outputs": []
    },
    {
      "cell_type": "code",
      "source": [
        "# SELU를 사용하기 위해서는 네트워크가 자기 정규화가 되어야 함. 때문에 데이터셋을 정규화함.\n",
        "\n",
        "X_means = X_train.mean(axis=0)\n",
        "X_stds = X_train.std(axis=0)\n",
        "X_train_scaled = (X_train - X_means) / X_stds\n",
        "X_valid_scaled = (X_valid - X_means) / X_stds\n",
        "X_test_scaled = (X_test - X_means) / X_stds"
      ],
      "metadata": {
        "id": "zT9YFoO6cY59"
      },
      "execution_count": 41,
      "outputs": []
    },
    {
      "cell_type": "code",
      "source": [
        "model.fit(X_train_scaled, y_train, epochs=100,\n",
        "          validation_data=(X_valid_scaled, y_valid),\n",
        "          callbacks=callbacks)"
      ],
      "metadata": {
        "colab": {
          "base_uri": "https://localhost:8080/"
        },
        "id": "023wl9k-cVln",
        "outputId": "483a6aa9-d5aa-4cf2-dae1-6439982b9640"
      },
      "execution_count": 42,
      "outputs": [
        {
          "output_type": "stream",
          "name": "stdout",
          "text": [
            "Epoch 1/100\n",
            "1407/1407 [==============================] - 25s 15ms/step - loss: 1.9165 - accuracy: 0.3157 - val_loss: 1.8406 - val_accuracy: 0.3210\n",
            "Epoch 2/100\n",
            "1407/1407 [==============================] - 21s 15ms/step - loss: 1.7054 - accuracy: 0.3970 - val_loss: 1.7119 - val_accuracy: 0.3832\n",
            "Epoch 3/100\n",
            "1407/1407 [==============================] - 21s 15ms/step - loss: 1.6112 - accuracy: 0.4322 - val_loss: 1.6513 - val_accuracy: 0.4172\n",
            "Epoch 4/100\n",
            "1407/1407 [==============================] - 21s 15ms/step - loss: 1.5407 - accuracy: 0.4563 - val_loss: 1.6156 - val_accuracy: 0.4292\n",
            "Epoch 5/100\n",
            "1407/1407 [==============================] - 21s 15ms/step - loss: 1.4805 - accuracy: 0.4809 - val_loss: 1.5978 - val_accuracy: 0.4468\n",
            "Epoch 6/100\n",
            "1407/1407 [==============================] - 21s 15ms/step - loss: 1.4297 - accuracy: 0.4967 - val_loss: 1.5211 - val_accuracy: 0.4644\n",
            "Epoch 7/100\n",
            "1407/1407 [==============================] - 21s 15ms/step - loss: 1.3924 - accuracy: 0.5146 - val_loss: 1.5329 - val_accuracy: 0.4730\n",
            "Epoch 8/100\n",
            "1407/1407 [==============================] - 21s 15ms/step - loss: 1.3506 - accuracy: 0.5291 - val_loss: 1.5101 - val_accuracy: 0.4730\n",
            "Epoch 9/100\n",
            "1407/1407 [==============================] - 21s 15ms/step - loss: 1.3204 - accuracy: 0.5399 - val_loss: 1.4955 - val_accuracy: 0.4858\n",
            "Epoch 10/100\n",
            "1407/1407 [==============================] - 21s 15ms/step - loss: 1.2864 - accuracy: 0.5547 - val_loss: 1.4851 - val_accuracy: 0.4908\n",
            "Epoch 11/100\n",
            "1407/1407 [==============================] - 21s 15ms/step - loss: 1.2530 - accuracy: 0.5645 - val_loss: 1.5152 - val_accuracy: 0.4832\n",
            "Epoch 12/100\n",
            "1407/1407 [==============================] - 21s 15ms/step - loss: 1.2363 - accuracy: 0.5702 - val_loss: 1.4704 - val_accuracy: 0.5056\n",
            "Epoch 13/100\n",
            "1407/1407 [==============================] - 21s 15ms/step - loss: 1.2042 - accuracy: 0.5838 - val_loss: 1.4760 - val_accuracy: 0.5082\n",
            "Epoch 14/100\n",
            "1407/1407 [==============================] - 21s 15ms/step - loss: 1.1792 - accuracy: 0.5896 - val_loss: 1.5297 - val_accuracy: 0.4852\n",
            "Epoch 15/100\n",
            "1407/1407 [==============================] - 21s 15ms/step - loss: 1.1552 - accuracy: 0.5994 - val_loss: 1.4819 - val_accuracy: 0.4970\n",
            "Epoch 16/100\n",
            "1407/1407 [==============================] - 21s 15ms/step - loss: 1.1644 - accuracy: 0.6129 - val_loss: 1.6614 - val_accuracy: 0.4698\n",
            "Epoch 17/100\n",
            "1407/1407 [==============================] - 21s 15ms/step - loss: 1.5000 - accuracy: 0.4879 - val_loss: 1.5660 - val_accuracy: 0.4660\n",
            "Epoch 18/100\n",
            "1407/1407 [==============================] - 21s 15ms/step - loss: 1.2500 - accuracy: 0.5617 - val_loss: 1.5061 - val_accuracy: 0.4840\n",
            "Epoch 19/100\n",
            "1407/1407 [==============================] - 21s 15ms/step - loss: 1.1794 - accuracy: 0.5883 - val_loss: 1.4697 - val_accuracy: 0.4918\n",
            "Epoch 20/100\n",
            "1407/1407 [==============================] - 21s 15ms/step - loss: 1.2199 - accuracy: 0.5757 - val_loss: 1.5155 - val_accuracy: 0.4822\n",
            "Epoch 21/100\n",
            "1407/1407 [==============================] - 21s 15ms/step - loss: 1.1298 - accuracy: 0.6073 - val_loss: 1.5206 - val_accuracy: 0.5108\n",
            "Epoch 22/100\n",
            "1407/1407 [==============================] - 21s 15ms/step - loss: 1.0914 - accuracy: 0.6235 - val_loss: 1.5768 - val_accuracy: 0.4968\n",
            "Epoch 23/100\n",
            "1407/1407 [==============================] - 21s 15ms/step - loss: 1.0712 - accuracy: 0.6298 - val_loss: 1.5053 - val_accuracy: 0.5040\n",
            "Epoch 24/100\n",
            "1407/1407 [==============================] - 21s 15ms/step - loss: 1.0533 - accuracy: 0.6376 - val_loss: 1.5226 - val_accuracy: 0.5090\n",
            "Epoch 25/100\n",
            "1407/1407 [==============================] - 21s 15ms/step - loss: 1.0363 - accuracy: 0.6449 - val_loss: 1.5583 - val_accuracy: 0.5092\n",
            "Epoch 26/100\n",
            "1407/1407 [==============================] - 21s 15ms/step - loss: 1.0228 - accuracy: 0.6488 - val_loss: 1.6057 - val_accuracy: 0.5010\n",
            "Epoch 27/100\n",
            "1407/1407 [==============================] - 21s 15ms/step - loss: 1.0073 - accuracy: 0.6539 - val_loss: 1.5929 - val_accuracy: 0.5060\n",
            "Epoch 28/100\n",
            "1407/1407 [==============================] - 21s 15ms/step - loss: 1.0109 - accuracy: 0.6546 - val_loss: 1.5635 - val_accuracy: 0.5024\n",
            "Epoch 29/100\n",
            "1407/1407 [==============================] - 21s 15ms/step - loss: 0.9696 - accuracy: 0.6654 - val_loss: 1.6097 - val_accuracy: 0.5080\n",
            "Epoch 30/100\n",
            "1407/1407 [==============================] - 21s 15ms/step - loss: 0.9543 - accuracy: 0.6727 - val_loss: 1.6168 - val_accuracy: 0.5026\n",
            "Epoch 31/100\n",
            "1407/1407 [==============================] - 21s 15ms/step - loss: 0.9352 - accuracy: 0.6810 - val_loss: 1.5902 - val_accuracy: 0.5020\n",
            "Epoch 32/100\n",
            "1407/1407 [==============================] - 21s 15ms/step - loss: 0.9266 - accuracy: 0.6833 - val_loss: 1.6782 - val_accuracy: 0.5098\n",
            "Epoch 33/100\n",
            "1407/1407 [==============================] - 22s 15ms/step - loss: 0.9016 - accuracy: 0.6913 - val_loss: 1.6712 - val_accuracy: 0.4976\n",
            "Epoch 34/100\n",
            "1407/1407 [==============================] - 26s 18ms/step - loss: 0.8893 - accuracy: 0.6950 - val_loss: 1.6085 - val_accuracy: 0.4974\n",
            "Epoch 35/100\n",
            "1407/1407 [==============================] - 26s 18ms/step - loss: 0.8641 - accuracy: 0.7064 - val_loss: 1.7177 - val_accuracy: 0.4860\n",
            "Epoch 36/100\n",
            "1407/1407 [==============================] - 25s 18ms/step - loss: 0.8708 - accuracy: 0.7032 - val_loss: 1.6969 - val_accuracy: 0.5136\n",
            "Epoch 37/100\n",
            "1407/1407 [==============================] - 24s 17ms/step - loss: 0.8527 - accuracy: 0.7097 - val_loss: 1.6636 - val_accuracy: 0.5002\n",
            "Epoch 38/100\n",
            "1407/1407 [==============================] - 24s 17ms/step - loss: 0.8374 - accuracy: 0.7166 - val_loss: 1.6167 - val_accuracy: 0.5054\n",
            "Epoch 39/100\n",
            "1407/1407 [==============================] - 22s 15ms/step - loss: 0.8206 - accuracy: 0.7224 - val_loss: 1.7969 - val_accuracy: 0.5050\n"
          ]
        },
        {
          "output_type": "execute_result",
          "data": {
            "text/plain": [
              "<keras.callbacks.History at 0x7fdf34443150>"
            ]
          },
          "metadata": {},
          "execution_count": 42
        }
      ]
    },
    {
      "cell_type": "markdown",
      "source": [
        "#### 배치정규화를 사용했을 경우보다 학습 시간은 줄었지만, 정확도는 낮아졌음을 확인할 수 있다."
      ],
      "metadata": {
        "id": "eIfBnMpbhTiY"
      }
    },
    {
      "cell_type": "markdown",
      "source": [
        "## 드롭아웃을 사용하여 모델을 학습했을 때와의 비교\n",
        "\n",
        "##### 모든 층에서 드롭아웃을 사용했을 때 과하게 언더피팅되는 것을 확인함. 때문에 마지막 층 이전에서만 드롭아웃층을 사용함."
      ],
      "metadata": {
        "id": "wgnZoiIajHjm"
      }
    },
    {
      "cell_type": "code",
      "source": [
        "keras.backend.clear_session()\n",
        "\n",
        "model = keras.models.Sequential()\n",
        "model.add(keras.layers.Flatten(input_shape=[32, 32, 3]))\n",
        "model.add(keras.layers.AlphaDropout(rate=0.2))\n",
        "for _ in range(20):\n",
        "  model.add(keras.layers.Dense(100,\n",
        "                               kernel_initializer=\"lecun_normal\",\n",
        "                               activation=\"selu\"))\n",
        "model.add(keras.layers.AlphaDropout(rate=0.2))\n",
        "model.add(keras.layers.Dense(10, activation=\"softmax\"))"
      ],
      "metadata": {
        "id": "xgNYn9AecmA3"
      },
      "execution_count": 59,
      "outputs": []
    },
    {
      "cell_type": "code",
      "source": [
        "optimizer = keras.optimizers.Nadam(learning_rate=5e-4)\n",
        "\n",
        "model.compile(loss=\"sparse_categorical_crossentropy\",\n",
        "              optimizer=optimizer,\n",
        "              metrics=[\"accuracy\"])"
      ],
      "metadata": {
        "id": "BTM32lBefyqd"
      },
      "execution_count": 60,
      "outputs": []
    },
    {
      "cell_type": "code",
      "source": [
        "early_stopping_cb = keras.callbacks.EarlyStopping(patience=20)\n",
        "model_checkpoint_cb = keras.callbacks.ModelCheckpoint(\"my_cifar10_alpha_dropout_model.h5\", save_best_only=True)\n",
        "\n",
        "callbacks = [early_stopping_cb, model_checkpoint_cb]"
      ],
      "metadata": {
        "id": "3BJEvUvJgWfB"
      },
      "execution_count": 61,
      "outputs": []
    },
    {
      "cell_type": "code",
      "source": [
        "X_means = X_train.mean(axis=0)\n",
        "X_stds = X_train.std(axis=0)\n",
        "X_train_scaled = (X_train - X_means) / X_stds\n",
        "X_valid_scaled = (X_valid - X_means) / X_stds\n",
        "X_test_scaled = (X_test - X_means) / X_stds"
      ],
      "metadata": {
        "id": "1xQi-EklgxT4"
      },
      "execution_count": 62,
      "outputs": []
    },
    {
      "cell_type": "code",
      "source": [
        "model.fit(X_train_scaled, y_train, epochs=100,\n",
        "          validation_data=(X_valid_scaled, y_valid),\n",
        "          callbacks=callbacks)"
      ],
      "metadata": {
        "colab": {
          "base_uri": "https://localhost:8080/"
        },
        "id": "Q6sbq9wJgZj1",
        "outputId": "e17d7ae3-40f8-450f-b6be-04c56380323a"
      },
      "execution_count": 63,
      "outputs": [
        {
          "output_type": "stream",
          "name": "stdout",
          "text": [
            "Epoch 1/100\n",
            "1407/1407 [==============================] - 26s 15ms/step - loss: 1.9323 - accuracy: 0.3116 - val_loss: 1.7940 - val_accuracy: 0.3474\n",
            "Epoch 2/100\n",
            "1407/1407 [==============================] - 21s 15ms/step - loss: 1.7384 - accuracy: 0.3841 - val_loss: 1.8249 - val_accuracy: 0.3964\n",
            "Epoch 3/100\n",
            "1407/1407 [==============================] - 21s 15ms/step - loss: 1.6633 - accuracy: 0.4146 - val_loss: 1.8089 - val_accuracy: 0.3962\n",
            "Epoch 4/100\n",
            "1407/1407 [==============================] - 21s 15ms/step - loss: 1.6102 - accuracy: 0.4331 - val_loss: 1.6201 - val_accuracy: 0.4554\n",
            "Epoch 5/100\n",
            "1407/1407 [==============================] - 22s 15ms/step - loss: 1.5674 - accuracy: 0.4494 - val_loss: 1.7197 - val_accuracy: 0.4296\n",
            "Epoch 6/100\n",
            "1407/1407 [==============================] - 21s 15ms/step - loss: 1.5333 - accuracy: 0.4623 - val_loss: 1.7114 - val_accuracy: 0.4420\n",
            "Epoch 7/100\n",
            "1407/1407 [==============================] - 22s 15ms/step - loss: 1.5001 - accuracy: 0.4750 - val_loss: 1.6475 - val_accuracy: 0.4664\n",
            "Epoch 8/100\n",
            "1407/1407 [==============================] - 21s 15ms/step - loss: 1.4699 - accuracy: 0.4831 - val_loss: 1.6532 - val_accuracy: 0.4658\n",
            "Epoch 9/100\n",
            "1407/1407 [==============================] - 21s 15ms/step - loss: 1.4468 - accuracy: 0.4927 - val_loss: 1.7130 - val_accuracy: 0.4552\n",
            "Epoch 10/100\n",
            "1407/1407 [==============================] - 22s 15ms/step - loss: 1.4224 - accuracy: 0.4994 - val_loss: 1.5774 - val_accuracy: 0.4916\n",
            "Epoch 11/100\n",
            "1407/1407 [==============================] - 21s 15ms/step - loss: 1.4016 - accuracy: 0.5075 - val_loss: 1.8211 - val_accuracy: 0.4774\n",
            "Epoch 12/100\n",
            "1407/1407 [==============================] - 21s 15ms/step - loss: 1.3859 - accuracy: 0.5165 - val_loss: 1.7278 - val_accuracy: 0.4914\n",
            "Epoch 13/100\n",
            "1407/1407 [==============================] - 21s 15ms/step - loss: 1.3658 - accuracy: 0.5262 - val_loss: 1.6703 - val_accuracy: 0.4834\n",
            "Epoch 14/100\n",
            "1407/1407 [==============================] - 21s 15ms/step - loss: 1.3480 - accuracy: 0.5289 - val_loss: 1.6571 - val_accuracy: 0.4854\n",
            "Epoch 15/100\n",
            "1407/1407 [==============================] - 21s 15ms/step - loss: 1.3357 - accuracy: 0.5343 - val_loss: 1.7651 - val_accuracy: 0.4798\n",
            "Epoch 16/100\n",
            "1407/1407 [==============================] - 21s 15ms/step - loss: 1.3195 - accuracy: 0.5397 - val_loss: 1.8177 - val_accuracy: 0.4944\n",
            "Epoch 17/100\n",
            "1407/1407 [==============================] - 21s 15ms/step - loss: 1.3057 - accuracy: 0.5443 - val_loss: 1.7272 - val_accuracy: 0.4932\n",
            "Epoch 18/100\n",
            "1407/1407 [==============================] - 21s 15ms/step - loss: 1.2973 - accuracy: 0.5482 - val_loss: 1.7107 - val_accuracy: 0.4980\n",
            "Epoch 19/100\n",
            "1407/1407 [==============================] - 22s 15ms/step - loss: 1.2821 - accuracy: 0.5517 - val_loss: 1.6265 - val_accuracy: 0.5090\n",
            "Epoch 20/100\n",
            "1407/1407 [==============================] - 21s 15ms/step - loss: 1.2692 - accuracy: 0.5574 - val_loss: 1.6811 - val_accuracy: 0.5122\n",
            "Epoch 21/100\n",
            "1407/1407 [==============================] - 21s 15ms/step - loss: 1.2610 - accuracy: 0.5617 - val_loss: 1.7426 - val_accuracy: 0.4920\n",
            "Epoch 22/100\n",
            "1407/1407 [==============================] - 22s 15ms/step - loss: 1.2520 - accuracy: 0.5632 - val_loss: 1.7117 - val_accuracy: 0.5174\n",
            "Epoch 23/100\n",
            "1407/1407 [==============================] - 22s 15ms/step - loss: 1.2396 - accuracy: 0.5698 - val_loss: 1.7017 - val_accuracy: 0.5034\n",
            "Epoch 24/100\n",
            "1407/1407 [==============================] - 22s 15ms/step - loss: 1.2237 - accuracy: 0.5771 - val_loss: 1.8507 - val_accuracy: 0.4986\n",
            "Epoch 25/100\n",
            "1407/1407 [==============================] - 22s 15ms/step - loss: 1.2184 - accuracy: 0.5772 - val_loss: 1.7799 - val_accuracy: 0.5000\n",
            "Epoch 26/100\n",
            "1407/1407 [==============================] - 22s 16ms/step - loss: 1.2090 - accuracy: 0.5788 - val_loss: 1.7846 - val_accuracy: 0.5082\n",
            "Epoch 27/100\n",
            "1407/1407 [==============================] - 22s 16ms/step - loss: 1.2028 - accuracy: 0.5836 - val_loss: 1.7356 - val_accuracy: 0.4884\n",
            "Epoch 28/100\n",
            "1407/1407 [==============================] - 22s 16ms/step - loss: 1.1948 - accuracy: 0.5865 - val_loss: 1.8352 - val_accuracy: 0.4962\n",
            "Epoch 29/100\n",
            "1407/1407 [==============================] - 22s 16ms/step - loss: 1.1830 - accuracy: 0.5890 - val_loss: 1.7780 - val_accuracy: 0.5044\n",
            "Epoch 30/100\n",
            "1407/1407 [==============================] - 22s 16ms/step - loss: 1.1767 - accuracy: 0.5931 - val_loss: 1.7925 - val_accuracy: 0.4984\n"
          ]
        },
        {
          "output_type": "execute_result",
          "data": {
            "text/plain": [
              "<keras.callbacks.History at 0x7fdf3756ea50>"
            ]
          },
          "metadata": {},
          "execution_count": 63
        }
      ]
    },
    {
      "cell_type": "markdown",
      "source": [
        "#### 드롭아웃을 사용하지 않았을 경우보다 정확도가 증가함"
      ],
      "metadata": {
        "id": "UXcXt9Bgmcho"
      }
    },
    {
      "cell_type": "markdown",
      "source": [
        "## 학습한 모델을 MCDropout으로 바꾸어 예측했을 때의 차이 비교"
      ],
      "metadata": {
        "id": "OJDtYfWzhbvR"
      }
    },
    {
      "cell_type": "code",
      "source": [
        "class MCAlphaDropout(keras.layers.AlphaDropout):\n",
        "    def call(self, inputs):\n",
        "        return super().call(inputs, training=True)"
      ],
      "metadata": {
        "id": "I7_Kx3m-gfwh"
      },
      "execution_count": 64,
      "outputs": []
    },
    {
      "cell_type": "code",
      "source": [
        "mc_model = keras.models.Sequential([\n",
        "    MCAlphaDropout(layer.rate) if isinstance(layer, keras.layers.AlphaDropout) else layer\n",
        "    for layer in model.layers\n",
        "])"
      ],
      "metadata": {
        "id": "ntJxspYvghTP"
      },
      "execution_count": 65,
      "outputs": []
    },
    {
      "cell_type": "code",
      "source": [
        "def mc_dropout_predict_probas(mc_model, X, n_samples=10):\n",
        "    Y_probas = [mc_model.predict(X) for sample in range(n_samples)]\n",
        "    return np.mean(Y_probas, axis=0)\n",
        "\n",
        "def mc_dropout_predict_classes(mc_model, X, n_samples=10):\n",
        "    Y_probas = mc_dropout_predict_probas(mc_model, X, n_samples)\n",
        "    return np.argmax(Y_probas, axis=1)"
      ],
      "metadata": {
        "id": "fpXNf1nrgiOf"
      },
      "execution_count": 66,
      "outputs": []
    },
    {
      "cell_type": "code",
      "source": [
        "keras.backend.clear_session()\n",
        "tf.random.set_seed(42)\n",
        "np.random.seed(42)\n",
        "\n",
        "y_pred = mc_dropout_predict_classes(mc_model, X_valid_scaled)\n",
        "accuracy = np.mean(y_pred == y_valid[:, 0])\n",
        "accuracy"
      ],
      "metadata": {
        "colab": {
          "base_uri": "https://localhost:8080/"
        },
        "id": "b6uwz9r-gi3E",
        "outputId": "1c6bf6ef-b6db-4921-986d-7e9a6e303c58"
      },
      "execution_count": 67,
      "outputs": [
        {
          "output_type": "execute_result",
          "data": {
            "text/plain": [
              "0.5146"
            ]
          },
          "metadata": {},
          "execution_count": 67
        }
      ]
    },
    {
      "cell_type": "markdown",
      "source": [
        "#### 단순 드롭아웃을 사용했을 때보다 validation dataset에서의 정확도가 증가했다."
      ],
      "metadata": {
        "id": "C2f0EE7PmJMY"
      }
    },
    {
      "cell_type": "code",
      "source": [
        "keras.backend.clear_session()\n",
        "\n",
        "model = keras.models.Sequential()\n",
        "model.add(keras.layers.Flatten(input_shape=[32, 32, 3]))\n",
        "model.add(keras.layers.AlphaDropout(rate=0.2))\n",
        "model.add(keras.layers.BatchNormalization())\n",
        "for _ in range(20):\n",
        "  model.add(keras.layers.Dense(100,\n",
        "                               kernel_initializer=\"lecun_normal\",\n",
        "                               activation=\"selu\"))\n",
        "  model.add(keras.layers.BatchNormalization())\n",
        "model.add(keras.layers.AlphaDropout(rate=0.2))\n",
        "model.add(keras.layers.BatchNormalization())\n",
        "model.add(keras.layers.Dense(10, activation=\"softmax\"))"
      ],
      "metadata": {
        "id": "3wS08SaCmjq6"
      },
      "execution_count": 68,
      "outputs": []
    },
    {
      "cell_type": "code",
      "source": [
        "optimizer = keras.optimizers.Nadam(learning_rate=5e-4)\n",
        "\n",
        "model.compile(loss=\"sparse_categorical_crossentropy\",\n",
        "              optimizer=optimizer,\n",
        "              metrics=[\"accuracy\"])"
      ],
      "metadata": {
        "id": "UljhXVFkmxkm"
      },
      "execution_count": 69,
      "outputs": []
    },
    {
      "cell_type": "code",
      "source": [
        "early_stopping_cb = keras.callbacks.EarlyStopping(patience=20)\n",
        "model_checkpoint_cb = keras.callbacks.ModelCheckpoint(\"my_cifar10_alpha_dropout_model.h5\", save_best_only=True)\n",
        "\n",
        "callbacks = [early_stopping_cb, model_checkpoint_cb]"
      ],
      "metadata": {
        "id": "6Z8MFy0am0MC"
      },
      "execution_count": 70,
      "outputs": []
    },
    {
      "cell_type": "code",
      "source": [
        "model.fit(X_train_scaled, y_train, epochs=100,\n",
        "          validation_data=(X_valid_scaled, y_valid),\n",
        "          callbacks=callbacks)"
      ],
      "metadata": {
        "id": "gTo7izOqm2Hv"
      },
      "execution_count": null,
      "outputs": []
    },
    {
      "cell_type": "code",
      "source": [
        ""
      ],
      "metadata": {
        "id": "TiY_inlgm4j7"
      },
      "execution_count": null,
      "outputs": []
    }
  ]
}