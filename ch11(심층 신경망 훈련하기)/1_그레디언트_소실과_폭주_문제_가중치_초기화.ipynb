{
  "nbformat": 4,
  "nbformat_minor": 0,
  "metadata": {
    "colab": {
      "name": "1. 그레디언트 소실과 폭주 문제 - 가중치 초기화.ipynb",
      "provenance": []
    },
    "kernelspec": {
      "name": "python3",
      "display_name": "Python 3"
    },
    "language_info": {
      "name": "python"
    }
  },
  "cells": [
    {
      "cell_type": "code",
      "execution_count": 1,
      "metadata": {
        "id": "AmwxO6CmkVc_"
      },
      "outputs": [],
      "source": [
        "# 파이썬 ≥3.5 필수\n",
        "import sys\n",
        "assert sys.version_info >= (3, 5)\n",
        "\n",
        "# 사이킷런 ≥0.20 필수\n",
        "import sklearn\n",
        "assert sklearn.__version__ >= \"0.20\"\n",
        "\n",
        "# 텐서플로 ≥2.0 필수\n",
        "import tensorflow as tf\n",
        "from tensorflow import keras\n",
        "assert tf.__version__ >= \"2.0\"\n",
        "\n",
        "%load_ext tensorboard\n",
        "\n",
        "# 공통 모듈 임포트\n",
        "import numpy as np\n",
        "import os\n",
        "\n",
        "# 노트북 실행 결과를 동일하게 유지하기 위해\n",
        "np.random.seed(42)\n",
        "\n",
        "# 깔끔한 그래프 출력을 위해\n",
        "%matplotlib inline\n",
        "import matplotlib as mpl\n",
        "import matplotlib.pyplot as plt\n",
        "mpl.rc('axes', labelsize=14)\n",
        "mpl.rc('xtick', labelsize=12)\n",
        "mpl.rc('ytick', labelsize=12)"
      ]
    },
    {
      "cell_type": "code",
      "source": [
        "### 기존의 logistic 활성화 함수와 평균이 0이고 표준편차가 1인 정규분포에서의 가중치 초기화 방법은\n",
        "### 역전파의 과정에서 하위층에서 그레디언트가 과도하게 커지거나 작아지는 그레디언트 폭주/소실 문제를 발생시킨다."
      ],
      "metadata": {
        "id": "fceQAQ-G8gZF"
      },
      "execution_count": 2,
      "outputs": []
    },
    {
      "cell_type": "markdown",
      "source": [
        "#### logistic / softmax / tanh : Xavier 초기화\n",
        "#### relu / relu의 변종들 : He 초기화\n",
        "#### selu : 르쿤 초기화"
      ],
      "metadata": {
        "id": "NvuxVWCR9vQb"
      }
    },
    {
      "cell_type": "markdown",
      "source": [
        "# Xavier 초기화(= Glorot 초기화)"
      ],
      "metadata": {
        "id": "_sfyQPzL9aiv"
      }
    },
    {
      "cell_type": "code",
      "source": [
        "keras.layers.Dense(10, activation=\"softmax\", kernel_initializer=\"glorot_normal\")"
      ],
      "metadata": {
        "colab": {
          "base_uri": "https://localhost:8080/"
        },
        "id": "tULsvqrd-FkJ",
        "outputId": "280f6e03-52a2-4366-f2c0-919185533ed6"
      },
      "execution_count": 9,
      "outputs": [
        {
          "output_type": "execute_result",
          "data": {
            "text/plain": [
              "<keras.layers.core.dense.Dense at 0x7f07834e7450>"
            ]
          },
          "metadata": {},
          "execution_count": 9
        }
      ]
    },
    {
      "cell_type": "markdown",
      "source": [
        "# He 초기화"
      ],
      "metadata": {
        "id": "7Z0DEO0A9d5G"
      }
    },
    {
      "cell_type": "code",
      "source": [
        "keras.layers.Dense(10, activation=\"relu\", kernel_initializer=\"he_normal\")"
      ],
      "metadata": {
        "colab": {
          "base_uri": "https://localhost:8080/"
        },
        "id": "y4QELb9q9VmI",
        "outputId": "5a039191-d811-4acf-9a2d-97663b0318d1"
      },
      "execution_count": 3,
      "outputs": [
        {
          "output_type": "execute_result",
          "data": {
            "text/plain": [
              "<keras.layers.core.dense.Dense at 0x7f07f9d41bd0>"
            ]
          },
          "metadata": {},
          "execution_count": 3
        }
      ]
    },
    {
      "cell_type": "code",
      "source": [
        "init = keras.initializers.VarianceScaling(scale=2., mode='fan_avg',\n",
        "                                          distribution='uniform')\n",
        "keras.layers.Dense(10, activation=\"relu\", kernel_initializer=init)"
      ],
      "metadata": {
        "colab": {
          "base_uri": "https://localhost:8080/"
        },
        "id": "7hicxmoe9cT7",
        "outputId": "c6336632-d22f-41fa-b3b7-b25c3598b978"
      },
      "execution_count": 4,
      "outputs": [
        {
          "output_type": "execute_result",
          "data": {
            "text/plain": [
              "<keras.layers.core.dense.Dense at 0x7f0783723f50>"
            ]
          },
          "metadata": {},
          "execution_count": 4
        }
      ]
    },
    {
      "cell_type": "markdown",
      "source": [
        "# 르쿤 초기화"
      ],
      "metadata": {
        "id": "gfTD7Ffk-aki"
      }
    },
    {
      "cell_type": "code",
      "source": [
        "keras.layers.Dense(10, activation=\"selu\", kernel_initializer=\"LecunNormal\")"
      ],
      "metadata": {
        "colab": {
          "base_uri": "https://localhost:8080/"
        },
        "id": "xIMSQdMm-ZUy",
        "outputId": "4f302e64-966f-41ab-8d75-be2604ed902e"
      },
      "execution_count": 10,
      "outputs": [
        {
          "output_type": "execute_result",
          "data": {
            "text/plain": [
              "<keras.layers.core.dense.Dense at 0x7f07834fcc90>"
            ]
          },
          "metadata": {},
          "execution_count": 10
        }
      ]
    }
  ]
}