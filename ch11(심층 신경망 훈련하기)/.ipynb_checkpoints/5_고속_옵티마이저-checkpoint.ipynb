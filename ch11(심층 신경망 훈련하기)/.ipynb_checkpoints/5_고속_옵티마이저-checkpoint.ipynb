{
 "cells": [
  {
   "cell_type": "code",
   "execution_count": 1,
   "metadata": {
    "id": "FLoy_LXs5hLR"
   },
   "outputs": [],
   "source": [
    "# 파이썬 ≥3.5 필수\n",
    "import sys\n",
    "assert sys.version_info >= (3, 5)\n",
    "\n",
    "# 사이킷런 ≥0.20 필수\n",
    "import sklearn\n",
    "assert sklearn.__version__ >= \"0.20\"\n",
    "\n",
    "# 텐서플로 ≥2.0 필수\n",
    "import tensorflow as tf\n",
    "from tensorflow import keras\n",
    "assert tf.__version__ >= \"2.0\"\n",
    "\n",
    "%load_ext tensorboard\n",
    "\n",
    "# 공통 모듈 임포트\n",
    "import numpy as np\n",
    "import os\n",
    "\n",
    "# 노트북 실행 결과를 동일하게 유지하기 위해\n",
    "np.random.seed(42)\n",
    "\n",
    "# 깔끔한 그래프 출력을 위해\n",
    "%matplotlib inline\n",
    "import matplotlib as mpl\n",
    "import matplotlib.pyplot as plt\n",
    "mpl.rc('axes', labelsize=14)\n",
    "mpl.rc('xtick', labelsize=12)\n",
    "mpl.rc('ytick', labelsize=12)\n",
    "\n",
    "# 그림을 저장할 위치\n",
    "PROJECT_ROOT_DIR = \".\"\n",
    "CHAPTER_ID = \"deep\"\n",
    "IMAGES_PATH = os.path.join(PROJECT_ROOT_DIR, \"images\", CHAPTER_ID)\n",
    "os.makedirs(IMAGES_PATH, exist_ok=True)\n",
    "\n",
    "def save_fig(fig_id, tight_layout=True, fig_extension=\"png\", resolution=300):\n",
    "    path = os.path.join(IMAGES_PATH, fig_id + \".\" + fig_extension)\n",
    "    print(\"그림 저장:\", fig_id)\n",
    "    if tight_layout:\n",
    "        plt.tight_layout()\n",
    "    plt.savefig(path, format=fig_extension, dpi=resolution)"
   ]
  },
  {
   "cell_type": "markdown",
   "metadata": {
    "id": "9XORFbzL56EV"
   },
   "source": [
    "SGD 이외의 가중치 학습 방법에 대하여 서술"
   ]
  },
  {
   "cell_type": "markdown",
   "metadata": {
    "id": "OdZd9i0D9kg1"
   },
   "source": [
    "### RMSProp, Adam, Nadam 최적화는 빠르게 좋은 솔루션에 수렴.\n",
    "### 위의 옵티마이저에서의 모델 성능이 그다지 좋지 못할 경우, 네스테로프 가속 경사 고려 가능."
   ]
  },
  {
   "cell_type": "markdown",
   "metadata": {
    "id": "i7WYHT5W6DQm"
   },
   "source": [
    "# 모멘텀 옵티마이저\n",
    "\n",
    "##### 공이 표면을 구르는 모양을 모방함. SGD 옵티마이저에 momentum 변수를 추가로 지정. 모멘텀 0.9에서 잘 작동함."
   ]
  },
  {
   "cell_type": "code",
   "execution_count": 2,
   "metadata": {
    "id": "7Wt-JeSM6BM0"
   },
   "outputs": [],
   "source": [
    "optimizer = keras.optimizers.SGD(learning_rate=0.001, momentum=0.9)"
   ]
  },
  {
   "cell_type": "markdown",
   "metadata": {
    "id": "QlDQQjvN6oce"
   },
   "source": [
    "# 네스테로프 가속 경사\n",
    "##### 모멘텀 옵티마이저의 변종. 모멘텀에서의 현재 위치보다 조금 더 앞선 곳에서 그레이디언트를 계산함. 때문에 모멘텀보다 거의 항상 더 빠르다."
   ]
  },
  {
   "cell_type": "code",
   "execution_count": 3,
   "metadata": {
    "id": "Hl2tfGSe5nHP"
   },
   "outputs": [],
   "source": [
    "optimizer = keras.optimizers.SGD(learning_rate=0.001, momentum=0.9, nesterov=True)"
   ]
  },
  {
   "cell_type": "markdown",
   "metadata": {
    "id": "DrDw6gxt7Hr7"
   },
   "source": [
    "# AdaGrad\n",
    "\n",
    "#### 2차원 함수와 같은 간단한 함수에서 잘 작동하고, 신경망과 같은 복잡한 함수에서는 잘 작동하지 않는다."
   ]
  },
  {
   "cell_type": "code",
   "execution_count": 4,
   "metadata": {
    "id": "0YwjDycy7FqX"
   },
   "outputs": [],
   "source": [
    "optimizer = keras.optimizers.Adagrad(learning_rate=0.001)"
   ]
  },
  {
   "cell_type": "markdown",
   "metadata": {
    "id": "NJyYDvoW7Lmz"
   },
   "source": [
    "# RMSProp\n",
    "\n",
    "#### AdaGrad의 변종. Adam 알고리즘이 나오기 전까지 연구자들이 가장 선호하던 알고리즘"
   ]
  },
  {
   "cell_type": "code",
   "execution_count": 5,
   "metadata": {
    "id": "g4swnoAA7Kuv"
   },
   "outputs": [],
   "source": [
    "optimizer = keras.optimizers.RMSprop(learning_rate=0.001, rho=0.9)"
   ]
  },
  {
   "cell_type": "markdown",
   "metadata": {
    "id": "mXHlpDR-8B9N"
   },
   "source": [
    "# Adam 옵티마이저\n",
    "\n",
    "#### 모멘텀 최적화 + RMSProp. beta_1=0.9, beta_2=0.000로 설정하는 것이 보통임."
   ]
  },
  {
   "cell_type": "code",
   "execution_count": 7,
   "metadata": {
    "id": "FlJWe5oT7N5B"
   },
   "outputs": [],
   "source": [
    "optimizer = keras.optimizers.Adam(learning_rate=0.001, beta_1=0.9, beta_2=0.999)"
   ]
  },
  {
   "cell_type": "markdown",
   "metadata": {
    "id": "OGRRGNmK805f"
   },
   "source": [
    "# Adamax 옵티마이저\n",
    "\n",
    "#### Adam의 변종. Adam보다 안정적이나, 성능은 떨어지는 경우가 많다. 어떤 작업에서 Adam이 잘 작동하지 않을 경우 고려가능한 카드."
   ]
  },
  {
   "cell_type": "code",
   "execution_count": 8,
   "metadata": {
    "id": "mCEiGDOn8ByD"
   },
   "outputs": [],
   "source": [
    "optimizer = keras.optimizers.Adamax(learning_rate=0.001, beta_1=0.9, beta_2=0.999)"
   ]
  },
  {
   "cell_type": "markdown",
   "metadata": {
    "id": "jI1qcp0z9ERI"
   },
   "source": [
    "# Nadam 옵티마이저\n",
    "\n"
   ]
  },
  {
   "cell_type": "code",
   "execution_count": 9,
   "metadata": {
    "id": "rnifpO7k9CVf"
   },
   "outputs": [],
   "source": [
    "optimizer = keras.optimizers.Nadam(learning_rate=0.001, beta_1=0.9, beta_2=0.999)"
   ]
  },
  {
   "cell_type": "markdown",
   "metadata": {
    "id": "RV6KNVL6AN_o"
   },
   "source": [
    "# 학습률 스케줄링\n",
    "\n",
    "#### 기본적으로 거듭제곱 스케줄링이 튜닝이 쉽고 빠르게 수렴해 선호됨."
   ]
  },
  {
   "cell_type": "code",
   "execution_count": 14,
   "metadata": {
    "id": "nq6VDtMkTve5"
   },
   "outputs": [],
   "source": [
    "(X_train_full, y_train_full), (X_test, y_test) = keras.datasets.fashion_mnist.load_data()\n",
    "X_train_full = X_train_full / 255.0\n",
    "X_test = X_test / 255.0\n",
    "X_valid, X_train = X_train_full[:5000], X_train_full[5000:]\n",
    "y_valid, y_train = y_train_full[:5000], y_train_full[5000:]\n",
    "\n",
    "pixel_means = X_train.mean(axis=0, keepdims=True)\n",
    "pixel_stds = X_train.std(axis=0, keepdims=True)\n",
    "X_train_scaled = (X_train - pixel_means) / pixel_stds\n",
    "X_valid_scaled = (X_valid - pixel_means) / pixel_stds\n",
    "X_test_scaled = (X_test - pixel_means) / pixel_stds"
   ]
  },
  {
   "cell_type": "markdown",
   "metadata": {
    "id": "zs_81bCITlt0"
   },
   "source": [
    "### 거듭제곱 스케줄링"
   ]
  },
  {
   "cell_type": "code",
   "execution_count": 11,
   "metadata": {
    "id": "fEcLwVLI9FNj"
   },
   "outputs": [],
   "source": [
    "optimizer = keras.optimizers.SGD(learning_rate=0.01, decay=1e-4)"
   ]
  },
  {
   "cell_type": "code",
   "execution_count": 12,
   "metadata": {
    "id": "IP99hTuyT0KU"
   },
   "outputs": [],
   "source": [
    "model = keras.models.Sequential([\n",
    "    keras.layers.Flatten(input_shape=[28, 28]),\n",
    "    keras.layers.Dense(300, activation=\"selu\", kernel_initializer=\"lecun_normal\"),\n",
    "    keras.layers.Dense(100, activation=\"selu\", kernel_initializer=\"lecun_normal\"),\n",
    "    keras.layers.Dense(10, activation=\"softmax\")\n",
    "])\n",
    "model.compile(loss=\"sparse_categorical_crossentropy\", optimizer=optimizer, metrics=[\"accuracy\"])"
   ]
  },
  {
   "cell_type": "code",
   "execution_count": 15,
   "metadata": {
    "colab": {
     "base_uri": "https://localhost:8080/"
    },
    "id": "NCXfh3GGT1Yh",
    "outputId": "7d6c01de-751c-4016-8c4c-e47470b17290"
   },
   "outputs": [
    {
     "name": "stdout",
     "output_type": "stream",
     "text": [
      "Epoch 1/25\n",
      "1719/1719 [==============================] - 6s 3ms/step - loss: 0.4891 - accuracy: 0.8279 - val_loss: 0.4234 - val_accuracy: 0.8594\n",
      "Epoch 2/25\n",
      "1719/1719 [==============================] - 6s 3ms/step - loss: 0.3794 - accuracy: 0.8661 - val_loss: 0.3819 - val_accuracy: 0.8720\n",
      "Epoch 3/25\n",
      "1719/1719 [==============================] - 6s 3ms/step - loss: 0.3467 - accuracy: 0.8765 - val_loss: 0.3670 - val_accuracy: 0.8738\n",
      "Epoch 4/25\n",
      "1719/1719 [==============================] - 6s 3ms/step - loss: 0.3254 - accuracy: 0.8845 - val_loss: 0.3583 - val_accuracy: 0.8756\n",
      "Epoch 5/25\n",
      "1719/1719 [==============================] - 6s 3ms/step - loss: 0.3092 - accuracy: 0.8899 - val_loss: 0.3529 - val_accuracy: 0.8802\n",
      "Epoch 6/25\n",
      "1719/1719 [==============================] - 6s 3ms/step - loss: 0.2966 - accuracy: 0.8945 - val_loss: 0.3486 - val_accuracy: 0.8762\n",
      "Epoch 7/25\n",
      "1719/1719 [==============================] - 6s 3ms/step - loss: 0.2861 - accuracy: 0.8979 - val_loss: 0.3429 - val_accuracy: 0.8816\n",
      "Epoch 8/25\n",
      "1719/1719 [==============================] - 6s 3ms/step - loss: 0.2766 - accuracy: 0.9012 - val_loss: 0.3433 - val_accuracy: 0.8810\n",
      "Epoch 9/25\n",
      "1719/1719 [==============================] - 6s 3ms/step - loss: 0.2692 - accuracy: 0.9042 - val_loss: 0.3358 - val_accuracy: 0.8860\n",
      "Epoch 10/25\n",
      "1719/1719 [==============================] - 6s 3ms/step - loss: 0.2617 - accuracy: 0.9067 - val_loss: 0.3425 - val_accuracy: 0.8796\n",
      "Epoch 11/25\n",
      "1719/1719 [==============================] - 6s 3ms/step - loss: 0.2561 - accuracy: 0.9088 - val_loss: 0.3341 - val_accuracy: 0.8816\n",
      "Epoch 12/25\n",
      "1719/1719 [==============================] - 6s 3ms/step - loss: 0.2503 - accuracy: 0.9121 - val_loss: 0.3300 - val_accuracy: 0.8850\n",
      "Epoch 13/25\n",
      "1719/1719 [==============================] - 6s 3ms/step - loss: 0.2450 - accuracy: 0.9135 - val_loss: 0.3328 - val_accuracy: 0.8868\n",
      "Epoch 14/25\n",
      "1719/1719 [==============================] - 6s 3ms/step - loss: 0.2403 - accuracy: 0.9145 - val_loss: 0.3350 - val_accuracy: 0.8846\n",
      "Epoch 15/25\n",
      "1719/1719 [==============================] - 6s 3ms/step - loss: 0.2358 - accuracy: 0.9160 - val_loss: 0.3306 - val_accuracy: 0.8840\n",
      "Epoch 16/25\n",
      "1719/1719 [==============================] - 6s 3ms/step - loss: 0.2318 - accuracy: 0.9181 - val_loss: 0.3292 - val_accuracy: 0.8854\n",
      "Epoch 17/25\n",
      "1719/1719 [==============================] - 6s 3ms/step - loss: 0.2276 - accuracy: 0.9211 - val_loss: 0.3284 - val_accuracy: 0.8862\n",
      "Epoch 18/25\n",
      "1719/1719 [==============================] - 6s 3ms/step - loss: 0.2245 - accuracy: 0.9208 - val_loss: 0.3276 - val_accuracy: 0.8842\n",
      "Epoch 19/25\n",
      "1719/1719 [==============================] - 6s 3ms/step - loss: 0.2211 - accuracy: 0.9230 - val_loss: 0.3287 - val_accuracy: 0.8832\n",
      "Epoch 20/25\n",
      "1719/1719 [==============================] - 6s 3ms/step - loss: 0.2179 - accuracy: 0.9238 - val_loss: 0.3292 - val_accuracy: 0.8872\n",
      "Epoch 21/25\n",
      "1719/1719 [==============================] - 6s 3ms/step - loss: 0.2148 - accuracy: 0.9249 - val_loss: 0.3272 - val_accuracy: 0.8862\n",
      "Epoch 22/25\n",
      "1719/1719 [==============================] - 6s 3ms/step - loss: 0.2120 - accuracy: 0.9260 - val_loss: 0.3292 - val_accuracy: 0.8872\n",
      "Epoch 23/25\n",
      "1719/1719 [==============================] - 6s 3ms/step - loss: 0.2094 - accuracy: 0.9266 - val_loss: 0.3279 - val_accuracy: 0.8876\n",
      "Epoch 24/25\n",
      "1719/1719 [==============================] - 6s 3ms/step - loss: 0.2068 - accuracy: 0.9285 - val_loss: 0.3256 - val_accuracy: 0.8866\n",
      "Epoch 25/25\n",
      "1719/1719 [==============================] - 6s 3ms/step - loss: 0.2041 - accuracy: 0.9293 - val_loss: 0.3271 - val_accuracy: 0.8866\n"
     ]
    }
   ],
   "source": [
    "n_epochs = 25\n",
    "history = model.fit(X_train_scaled, y_train, epochs=n_epochs,\n",
    "                    validation_data=(X_valid_scaled, y_valid))"
   ]
  },
  {
   "cell_type": "code",
   "execution_count": 17,
   "metadata": {
    "colab": {
     "base_uri": "https://localhost:8080/",
     "height": 303
    },
    "id": "LJUXZcn8T2Dp",
    "outputId": "d01b88bc-80c6-4d05-de87-69c77a8651d3"
   },
   "outputs": [
    {
     "data": {
      "image/png": "[encoded data removed]",
      "text/plain": [
       "<Figure size 432x288 with 1 Axes>"
      ]
     },
     "metadata": {
      "needs_background": "light"
     },
     "output_type": "display_data"
    }
   ],
   "source": [
    "import math\n",
    "\n",
    "learning_rate = 0.01\n",
    "decay = 1e-4\n",
    "batch_size = 32\n",
    "n_steps_per_epoch = math.ceil(len(X_train) / batch_size)\n",
    "epochs = np.arange(n_epochs)\n",
    "lrs = learning_rate / (1 + decay * epochs * n_steps_per_epoch)\n",
    "\n",
    "plt.plot(epochs, lrs,  \"o-\")\n",
    "plt.axis([0, n_epochs - 1, 0, 0.01])\n",
    "plt.xlabel(\"Epoch\")\n",
    "plt.ylabel(\"Learning Rate\")\n",
    "plt.title(\"Power Scheduling\", fontsize=14)\n",
    "plt.grid(True)\n",
    "plt.show()"
   ]
  },
  {
   "cell_type": "markdown",
   "metadata": {
    "id": "b9QCZwKSWFsN"
   },
   "source": [
    "### 성능 기반 스케줄링"
   ]
  },
  {
   "cell_type": "code",
   "execution_count": 18,
   "metadata": {
    "colab": {
     "base_uri": "https://localhost:8080/"
    },
    "id": "GxeP0ACeUmpA",
    "outputId": "621b541b-fac1-4f20-afbb-c321c27f825b"
   },
   "outputs": [
    {
     "name": "stdout",
     "output_type": "stream",
     "text": [
      "Epoch 1/25\n",
      "1719/1719 [==============================] - 7s 4ms/step - loss: 0.5953 - accuracy: 0.8056 - val_loss: 0.5934 - val_accuracy: 0.7988 - lr: 0.0200\n",
      "Epoch 2/25\n",
      "1719/1719 [==============================] - 6s 3ms/step - loss: 0.5052 - accuracy: 0.8383 - val_loss: 0.5494 - val_accuracy: 0.8282 - lr: 0.0200\n",
      "Epoch 3/25\n",
      "1719/1719 [==============================] - 6s 3ms/step - loss: 0.5025 - accuracy: 0.8450 - val_loss: 0.5116 - val_accuracy: 0.8294 - lr: 0.0200\n",
      "Epoch 4/25\n",
      "1719/1719 [==============================] - 6s 4ms/step - loss: 0.5001 - accuracy: 0.8488 - val_loss: 0.6194 - val_accuracy: 0.8318 - lr: 0.0200\n",
      "Epoch 5/25\n",
      "1719/1719 [==============================] - 6s 4ms/step - loss: 0.5301 - accuracy: 0.8458 - val_loss: 0.5927 - val_accuracy: 0.8170 - lr: 0.0200\n",
      "Epoch 6/25\n",
      "1719/1719 [==============================] - 6s 4ms/step - loss: 0.5182 - accuracy: 0.8532 - val_loss: 0.5569 - val_accuracy: 0.8434 - lr: 0.0200\n",
      "Epoch 7/25\n",
      "1719/1719 [==============================] - 6s 4ms/step - loss: 0.5293 - accuracy: 0.8536 - val_loss: 0.6369 - val_accuracy: 0.8586 - lr: 0.0200\n",
      "Epoch 8/25\n",
      "1719/1719 [==============================] - 6s 3ms/step - loss: 0.5390 - accuracy: 0.8526 - val_loss: 0.6769 - val_accuracy: 0.8142 - lr: 0.0200\n",
      "Epoch 9/25\n",
      "1719/1719 [==============================] - 6s 3ms/step - loss: 0.2980 - accuracy: 0.8960 - val_loss: 0.4078 - val_accuracy: 0.8824 - lr: 0.0100\n",
      "Epoch 10/25\n",
      "1719/1719 [==============================] - 6s 4ms/step - loss: 0.2507 - accuracy: 0.9086 - val_loss: 0.4126 - val_accuracy: 0.8858 - lr: 0.0100\n",
      "Epoch 11/25\n",
      "1719/1719 [==============================] - 6s 4ms/step - loss: 0.2288 - accuracy: 0.9155 - val_loss: 0.4384 - val_accuracy: 0.8800 - lr: 0.0100\n",
      "Epoch 12/25\n",
      "1719/1719 [==============================] - 6s 3ms/step - loss: 0.2177 - accuracy: 0.9191 - val_loss: 0.4801 - val_accuracy: 0.8756 - lr: 0.0100\n",
      "Epoch 13/25\n",
      "1719/1719 [==============================] - 6s 3ms/step - loss: 0.2089 - accuracy: 0.9230 - val_loss: 0.5345 - val_accuracy: 0.8752 - lr: 0.0100\n",
      "Epoch 14/25\n",
      "1719/1719 [==============================] - 6s 4ms/step - loss: 0.1917 - accuracy: 0.9276 - val_loss: 0.4380 - val_accuracy: 0.8886 - lr: 0.0100\n",
      "Epoch 15/25\n",
      "1719/1719 [==============================] - 6s 3ms/step - loss: 0.1339 - accuracy: 0.9485 - val_loss: 0.4283 - val_accuracy: 0.8982 - lr: 0.0050\n",
      "Epoch 16/25\n",
      "1719/1719 [==============================] - 6s 3ms/step - loss: 0.1217 - accuracy: 0.9519 - val_loss: 0.4686 - val_accuracy: 0.8922 - lr: 0.0050\n",
      "Epoch 17/25\n",
      "1719/1719 [==============================] - 6s 3ms/step - loss: 0.1150 - accuracy: 0.9548 - val_loss: 0.4679 - val_accuracy: 0.8892 - lr: 0.0050\n",
      "Epoch 18/25\n",
      "1719/1719 [==============================] - 6s 4ms/step - loss: 0.1065 - accuracy: 0.9581 - val_loss: 0.4745 - val_accuracy: 0.8924 - lr: 0.0050\n",
      "Epoch 19/25\n",
      "1719/1719 [==============================] - 6s 3ms/step - loss: 0.0995 - accuracy: 0.9618 - val_loss: 0.4777 - val_accuracy: 0.8928 - lr: 0.0050\n",
      "Epoch 20/25\n",
      "1719/1719 [==============================] - 6s 3ms/step - loss: 0.0792 - accuracy: 0.9700 - val_loss: 0.4897 - val_accuracy: 0.8964 - lr: 0.0025\n",
      "Epoch 21/25\n",
      "1719/1719 [==============================] - 6s 3ms/step - loss: 0.0732 - accuracy: 0.9720 - val_loss: 0.5188 - val_accuracy: 0.8966 - lr: 0.0025\n",
      "Epoch 22/25\n",
      "1719/1719 [==============================] - 6s 3ms/step - loss: 0.0690 - accuracy: 0.9750 - val_loss: 0.5226 - val_accuracy: 0.8962 - lr: 0.0025\n",
      "Epoch 23/25\n",
      "1719/1719 [==============================] - 6s 3ms/step - loss: 0.0655 - accuracy: 0.9755 - val_loss: 0.5391 - val_accuracy: 0.8938 - lr: 0.0025\n",
      "Epoch 24/25\n",
      "1719/1719 [==============================] - 6s 3ms/step - loss: 0.0624 - accuracy: 0.9772 - val_loss: 0.5372 - val_accuracy: 0.8924 - lr: 0.0025\n",
      "Epoch 25/25\n",
      "1719/1719 [==============================] - 6s 3ms/step - loss: 0.0531 - accuracy: 0.9819 - val_loss: 0.5513 - val_accuracy: 0.8968 - lr: 0.0012\n"
     ]
    }
   ],
   "source": [
    "lr_scheduler = keras.callbacks.ReduceLROnPlateau(factor=0.5, patience=5)\n",
    "\n",
    "model = keras.models.Sequential([\n",
    "    keras.layers.Flatten(input_shape=[28, 28]),\n",
    "    keras.layers.Dense(300, activation=\"selu\", kernel_initializer=\"lecun_normal\"),\n",
    "    keras.layers.Dense(100, activation=\"selu\", kernel_initializer=\"lecun_normal\"),\n",
    "    keras.layers.Dense(10, activation=\"softmax\")\n",
    "])\n",
    "optimizer = keras.optimizers.SGD(learning_rate=0.02, momentum=0.9)\n",
    "model.compile(loss=\"sparse_categorical_crossentropy\", optimizer=optimizer, metrics=[\"accuracy\"])\n",
    "n_epochs = 25\n",
    "history = model.fit(X_train_scaled, y_train, epochs=n_epochs,\n",
    "                    validation_data=(X_valid_scaled, y_valid),\n",
    "                    callbacks=[lr_scheduler])"
   ]
  },
  {
   "cell_type": "code",
   "execution_count": 21,
   "metadata": {
    "colab": {
     "base_uri": "https://localhost:8080/",
     "height": 285
    },
    "id": "cpPN3z_EWHmf",
    "outputId": "bb10a776-c139-473b-ba21-6bc1ef73810a"
   },
   "outputs": [
    {
     "data": {
      "image/png": "[encoded data removed]",
      "text/plain": [
       "<Figure size 432x288 with 2 Axes>"
      ]
     },
     "metadata": {
      "needs_background": "light"
     },
     "output_type": "display_data"
    }
   ],
   "source": [
    "ax2 = plt.gca().twinx()\n",
    "ax2.plot(history.epoch, history.history[\"val_loss\"], \"r^-\")\n",
    "ax2.set_ylabel('Validation Loss', color='r')\n",
    "ax2.tick_params('y', colors='r')\n",
    "\n",
    "plt.title(\"Reduce LR on Plateau\", fontsize=14)\n",
    "plt.show()"
   ]
  }
 ],
 "metadata": {
  "colab": {
   "name": "5. 고속 옵티마이저.ipynb",
   "provenance": []
  },
  "kernelspec": {
   "display_name": "Python 3",
   "language": "python",
   "name": "python3"
  },
  "language_info": {
   "codemirror_mode": {
    "name": "ipython",
    "version": 3
   },
   "file_extension": ".py",
   "mimetype": "text/x-python",
   "name": "python",
   "nbconvert_exporter": "python",
   "pygments_lexer": "ipython3",
   "version": "3.8.8"
  }
 },
 "nbformat": 4,
 "nbformat_minor": 1
}
